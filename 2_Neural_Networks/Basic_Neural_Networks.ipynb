{
  "nbformat": 4,
  "nbformat_minor": 0,
  "metadata": {
    "colab": {
      "provenance": [],
      "include_colab_link": true
    },
    "kernelspec": {
      "name": "python3",
      "display_name": "Python 3"
    },
    "language_info": {
      "name": "python"
    }
  },
  "cells": [
    {
      "cell_type": "markdown",
      "metadata": {
        "id": "view-in-github",
        "colab_type": "text"
      },
      "source": [
        "<a href=\"https://colab.research.google.com/github/pearl-yu/mist5400fall2025/blob/main/2_Neural_Networks/Basic_Neural_Networks.ipynb\" target=\"_parent\"><img src=\"https://colab.research.google.com/assets/colab-badge.svg\" alt=\"Open In Colab\"/></a>"
      ]
    },
    {
      "cell_type": "markdown",
      "source": [
        "## Basic Neural Networks\n",
        "\n",
        "MIST 5400 Fall 2025\n",
        "By: Pearl Yu\n",
        "\n",
        "Creadit to the help from Aditya Deshpande and Chris Volinsky."
      ],
      "metadata": {
        "id": "fR4dxZrM_B2H"
      }
    },
    {
      "cell_type": "markdown",
      "source": [
        " Lets see if Neural Nets can improve on our models on the DirectMarketing data set..."
      ],
      "metadata": {
        "id": "r27FiSLf_fDl"
      }
    },
    {
      "cell_type": "code",
      "source": [
        "#Loading Libraries\n",
        "import pandas as pd\n",
        "import numpy as np\n",
        "import matplotlib.pyplot as plt\n",
        "import seaborn as sns\n",
        "\n",
        "from sklearn.preprocessing import LabelBinarizer"
      ],
      "metadata": {
        "id": "LvvHCm7h443N"
      },
      "execution_count": null,
      "outputs": []
    },
    {
      "cell_type": "markdown",
      "source": [
        "#Installing data\n",
        "\n",
        "[You can download the data here](https://drive.google.com/uc?export=download&id=1deEx-Ey37F7qznPlIqmaAjjkmkvBtV28).  Each record represents an individual who was targeted with a direct marketing offer.  The offer was a solicitation to make a charitable donation. You'll remember this data set from last chapter!\n"
      ],
      "metadata": {
        "id": "wXaKP08m_sDE"
      }
    },
    {
      "cell_type": "markdown",
      "source": [
        "After downloading, we could open the folder at the left, and drag the downloaded local csv to the current working directory.\n"
      ],
      "metadata": {
        "id": "xsoGLDRDwwJ3"
      }
    },
    {
      "cell_type": "code",
      "source": [
        "df = pd.read_csv(\"DirectMarketing.csv\")\n",
        "# remove cases where Firstdate == 0 using .loc\n",
        "df = df.loc[df.Firstdate != 0]\n"
      ],
      "metadata": {
        "id": "NxCMzkCfYQmf"
      },
      "execution_count": null,
      "outputs": []
    },
    {
      "cell_type": "markdown",
      "source": [
        "Below is just some data cleaning procedures. Maybe try asking Gemini to explain these?"
      ],
      "metadata": {
        "id": "2mjXWA3XDTn8"
      }
    },
    {
      "cell_type": "code",
      "source": [
        "# replace gavr and glast with log versions of same features using .loc\n",
        "df_clean = df\n",
        "df_clean['gavr'] = np.log(df.gavr+1)\n",
        "df_clean['glast'] = np.log(df.glast+1)\n",
        "income_cat = pd.Categorical(df['Income'], categories=[0,1,2,3,4,5,6,7])\n",
        "df_clean['Income'] = income_cat\n",
        "\n",
        "rfaf2_cat = pd.Categorical(df['rfaf2'], categories=[1,2,3,4])\n",
        "df_clean['rfaf2'] = rfaf2_cat\n",
        "\n",
        "df_clean = pd.get_dummies(df_clean, columns=['rfaa2', 'pepstrfl','Income','rfaf2'],drop_first=True)\n",
        "df_clean.head()\n",
        "# Create a new feature 'tenure'\n",
        "df_clean['tenure'] = df_clean['Lastdate'] - df_clean['Firstdate']\n",
        "\n",
        "# maybe check to see this is always greater than zero?\n",
        "df_clean['tenure'].min()\n",
        "today = df_clean['Lastdate'].max()\n",
        "df_clean['recency'] = today - df_clean['Lastdate']\n",
        "\n",
        "# remove Firstdate and Lastdate\n",
        "df_clean = df_clean.drop(['Firstdate', 'Lastdate'], axis=1)\n"
      ],
      "metadata": {
        "id": "LLcm81gJjw7q"
      },
      "execution_count": null,
      "outputs": []
    },
    {
      "cell_type": "code",
      "source": [
        "# Take a look at a few rows\n",
        "df_clean.head()\n"
      ],
      "metadata": {
        "id": "jLwU7lkjha7X"
      },
      "execution_count": null,
      "outputs": []
    },
    {
      "cell_type": "markdown",
      "source": [
        "# Let's review Logistic Regression a little"
      ],
      "metadata": {
        "id": "6c1fanCpoMNk"
      }
    },
    {
      "cell_type": "code",
      "source": [
        "#Loading Libraries\n",
        "from sklearn import metrics\n",
        "from sklearn.model_selection import train_test_split\n",
        "from sklearn.linear_model import LogisticRegression"
      ],
      "metadata": {
        "id": "eRvIva0-6Dby"
      },
      "execution_count": null,
      "outputs": []
    },
    {
      "cell_type": "code",
      "source": [
        "X = df_clean.drop(['class'], axis=1)\n",
        "y = df_clean['class']"
      ],
      "metadata": {
        "id": "QqnTVZJMhm1C"
      },
      "execution_count": null,
      "outputs": []
    },
    {
      "cell_type": "code",
      "source": [
        "#Split Data into Testing and Training Data\n",
        "# original random_state = 42 gives results *81, 78, 85)\n",
        "random_state_value = 99\n",
        "X_train,X_test, y_train,y_test = train_test_split(X,y,test_size = 0.2,random_state = random_state_value)"
      ],
      "metadata": {
        "id": "XLvVKGjd6MaQ"
      },
      "execution_count": null,
      "outputs": []
    },
    {
      "cell_type": "code",
      "source": [
        "lrmodel = LogisticRegression(solver=\"liblinear\")\n",
        "lrmodel.fit(X_train,y_train)"
      ],
      "metadata": {
        "id": "Hwx-Hiz56OlA"
      },
      "execution_count": null,
      "outputs": []
    },
    {
      "cell_type": "code",
      "metadata": {
        "id": "7ac4445e"
      },
      "source": [
        "from sklearn.metrics import accuracy_score\n",
        "\n",
        "# Define a range of thresholds to test\n",
        "thresholds = np.arange(0, 1.01, 0.05)\n",
        "\n",
        "train_accuracies = []\n",
        "test_accuracies = []\n",
        "\n",
        "# Get predicted probabilities for the training set\n",
        "y_prob_lr_train = lrmodel.predict_proba(X_train)[:, 1]\n",
        "\n",
        "for threshold in thresholds:\n",
        "    # Calculate accuracy for training set\n",
        "    y_pred_train_threshold = (y_prob_lr_train >= threshold).astype(int)\n",
        "    train_accuracy = accuracy_score(y_train, y_pred_train_threshold)\n",
        "    train_accuracies.append(train_accuracy)\n",
        "\n",
        "    # Calculate accuracy for testing set\n",
        "    y_pred_test_threshold = (y_prob_lr >= threshold).astype(int)\n",
        "    test_accuracy = accuracy_score(y_test, y_pred_test_threshold)\n",
        "    test_accuracies.append(test_accuracy)\n",
        "\n",
        "# Find the best threshold and highest accuracy for the Keras model on the testing set\n",
        "best_threshold_lr = thresholds[np.argmax(test_accuracies)]\n",
        "highest_accuracy_lr = np.max(test_accuracies)\n",
        "\n",
        "print(f\"Keras Model - Best Threshold: {best_threshold_lr:.2f}\")\n",
        "print(f\"Keras Model - Highest Testing Accuracy: {highest_accuracy_lr :.4f}\")"
      ],
      "execution_count": null,
      "outputs": []
    },
    {
      "cell_type": "code",
      "metadata": {
        "id": "c55563b8"
      },
      "source": [
        "# Plot the accuracies\n",
        "plt.figure(figsize=(10, 6))\n",
        "plt.plot(thresholds, train_accuracies, label='Training Accuracy')\n",
        "plt.plot(thresholds, test_accuracies, label='Testing Accuracy')\n",
        "plt.xlabel('Threshold')\n",
        "plt.ylabel('Accuracy')\n",
        "plt.title('Logistic Regression Accuracy vs. Threshold')\n",
        "plt.legend()\n",
        "plt.grid(True)\n",
        "plt.show()"
      ],
      "execution_count": null,
      "outputs": []
    },
    {
      "cell_type": "markdown",
      "source": [
        "## Neural Networks (using Keras)"
      ],
      "metadata": {
        "id": "ft-Hzkbn7kt4"
      }
    },
    {
      "cell_type": "code",
      "source": [
        "#Loading Libraries\n",
        "\n",
        "import numpy as np\n",
        "from tensorflow.keras.models import Sequential\n",
        "from tensorflow.keras.layers import Dense, Dropout\n",
        "from tensorflow.keras.callbacks import EarlyStopping\n",
        "from sklearn.preprocessing import StandardScaler\n",
        "from sklearn.model_selection import train_test_split"
      ],
      "metadata": {
        "id": "euOzRNbF7mHf"
      },
      "execution_count": null,
      "outputs": []
    },
    {
      "cell_type": "code",
      "source": [
        "from sklearn.preprocessing import StandardScaler\n",
        "\n",
        "scaler = StandardScaler()\n",
        "X_train_scaled = scaler.fit_transform(X_train)\n",
        "X_test_scaled = scaler.transform(X_test)"
      ],
      "metadata": {
        "id": "0nfX9wpgjbAM"
      },
      "execution_count": null,
      "outputs": []
    },
    {
      "cell_type": "code",
      "source": [
        "# Defining SIMPLE Keras Model\n",
        "kmodel = Sequential()\n",
        "kmodel.add(Dense(12,input_shape =(19,), activation = \"relu\"))\n",
        "kmodel.add(Dense(8,activation = \"relu\"))\n",
        "kmodel.add(Dense(1,activation = \"sigmoid\"))"
      ],
      "metadata": {
        "id": "YoI-NYgprfsn"
      },
      "execution_count": null,
      "outputs": []
    },
    {
      "cell_type": "code",
      "source": [
        "#Compile Keras Model\n",
        "kmodel.compile(loss = \"binary_crossentropy\", optimizer = \"adam\", metrics =['accuracy'])\n"
      ],
      "metadata": {
        "id": "7i4NqOsLxoZF"
      },
      "execution_count": null,
      "outputs": []
    },
    {
      "cell_type": "code",
      "source": [
        "#Fitting Keras Model\n",
        "kmodel.fit(X_train_scaled,y_train,epochs = 50, batch_size = 256)"
      ],
      "metadata": {
        "id": "dwqzKXhzx8SP"
      },
      "execution_count": null,
      "outputs": []
    },
    {
      "cell_type": "code",
      "source": [
        "kmodel.summary()"
      ],
      "metadata": {
        "id": "C6dzqurxyd1w"
      },
      "execution_count": null,
      "outputs": []
    },
    {
      "cell_type": "code",
      "metadata": {
        "id": "8fa930f6"
      },
      "source": [
        "from sklearn.metrics import accuracy_score\n",
        "\n",
        "# Get predicted probabilities for the positive class (class 1)\n",
        "y_prob_keras_test = kmodel.predict(X_test_scaled).ravel()\n",
        "y_prob_keras_train = kmodel.predict(X_train_scaled).ravel()\n",
        "\n",
        "# Define a range of thresholds to test\n",
        "thresholds = np.arange(0, 1.01, 0.05)\n",
        "\n",
        "train_accuracies_keras = []\n",
        "test_accuracies_keras = []\n",
        "\n",
        "for threshold in thresholds:\n",
        "    # Calculate accuracy for training set\n",
        "    y_pred_train_threshold_keras = (y_prob_keras_train >= threshold).astype(int)\n",
        "    train_accuracy_keras = accuracy_score(y_train, y_pred_train_threshold_keras)\n",
        "    train_accuracies_keras.append(train_accuracy_keras)\n",
        "\n",
        "    # Calculate accuracy for testing set\n",
        "    y_pred_test_threshold_keras = (y_prob_keras_test >= threshold).astype(int)\n",
        "    test_accuracy_keras = accuracy_score(y_test, y_pred_test_threshold_keras)\n",
        "    test_accuracies_keras.append(test_accuracy_keras)\n",
        "\n",
        "# Find the best threshold and highest accuracy for the Keras model on the testing set\n",
        "best_threshold_keras = thresholds[np.argmax(test_accuracies_keras)]\n",
        "highest_accuracy_keras = np.max(test_accuracies_keras)\n",
        "\n",
        "print(f\"Keras Model - Best Threshold: {best_threshold_keras:.2f}\")\n",
        "print(f\"Keras Model - Highest Testing Accuracy: {highest_accuracy_keras:.4f}\")"
      ],
      "execution_count": null,
      "outputs": []
    },
    {
      "cell_type": "code",
      "metadata": {
        "id": "8c2a0bb4"
      },
      "source": [
        "# Plot the accuracies\n",
        "plt.figure(figsize=(10, 6))\n",
        "plt.plot(thresholds, train_accuracies_keras, label='Keras Training Accuracy')\n",
        "plt.plot(thresholds, test_accuracies_keras, label='Keras Testing Accuracy')\n",
        "plt.axhline(y=baseline_accuracy, color='r', linestyle='--', label='Baseline Accuracy') # Add baseline\n",
        "plt.xlabel('Threshold')\n",
        "plt.ylabel('Accuracy')\n",
        "plt.title('Keras Model Accuracy vs. Threshold')\n",
        "plt.legend()\n",
        "plt.grid(True)\n",
        "plt.show()"
      ],
      "execution_count": null,
      "outputs": []
    },
    {
      "cell_type": "code",
      "source": [
        "## Now we make it more complex, with an extra layer, and Dropout\n",
        "\n",
        "kmodel2 = Sequential()\n",
        "kmodel2.add(Dense(12,input_shape =(19,), activation = \"relu\")) # Change input_shape to (19,)\n",
        "kmodel2.add(Dropout(0.3))  # Add dropout\n",
        "kmodel2.add(Dense(8,activation = \"relu\"))\n",
        "kmodel2.add(Dropout(0.3))  # Add dropout to the new layer\n",
        "kmodel2.add(Dense(6,activation = \"relu\"))\n",
        "kmodel2.add(Dense(1,activation = \"sigmoid\"))\n"
      ],
      "metadata": {
        "id": "WiXNXsHW8S4_"
      },
      "execution_count": null,
      "outputs": []
    },
    {
      "cell_type": "code",
      "source": [
        "#Compile Keras Model\n",
        "kmodel2.compile(loss = \"binary_crossentropy\", optimizer = \"adam\", metrics =['accuracy'])\n"
      ],
      "metadata": {
        "id": "Bs4_7N9R8ad2"
      },
      "execution_count": null,
      "outputs": []
    },
    {
      "cell_type": "code",
      "source": [
        "#Fitting Keras Model\n",
        "kmodel2.fit(X_train_scaled,y_train,epochs = 20, batch_size = 256)"
      ],
      "metadata": {
        "id": "1G_oTZZfaeyH"
      },
      "execution_count": null,
      "outputs": []
    },
    {
      "cell_type": "code",
      "source": [
        "from sklearn.metrics import accuracy_score\n",
        "\n",
        "# Get predicted probabilities for the positive class (class 1)\n",
        "y_prob_keras_test = kmodel2.predict(X_test_scaled).ravel()\n",
        "y_prob_keras_train = kmodel2.predict(X_train_scaled).ravel()\n",
        "\n",
        "# Define a range of thresholds to test\n",
        "thresholds = np.arange(0, 1.01, 0.05)\n",
        "\n",
        "train_accuracies_keras = []\n",
        "test_accuracies_keras = []\n",
        "\n",
        "for threshold in thresholds:\n",
        "    # Calculate accuracy for training set\n",
        "    y_pred_train_threshold_keras = (y_prob_keras_train >= threshold).astype(int)\n",
        "    train_accuracy_keras = accuracy_score(y_train, y_pred_train_threshold_keras)\n",
        "    train_accuracies_keras.append(train_accuracy_keras)\n",
        "\n",
        "    # Calculate accuracy for testing set\n",
        "    y_pred_test_threshold_keras = (y_prob_keras_test >= threshold).astype(int)\n",
        "    test_accuracy_keras = accuracy_score(y_test, y_pred_test_threshold_keras)\n",
        "    test_accuracies_keras.append(test_accuracy_keras)\n",
        "\n",
        "# Find the best threshold and highest accuracy for the Keras model on the testing set\n",
        "best_threshold_keras2 = thresholds[np.argmax(test_accuracies_keras)]\n",
        "highest_accuracy_keras2 = np.max(test_accuracies_keras)\n",
        "\n",
        "print(f\"Keras Model - Best Threshold: {best_threshold_keras2:.2f}\")\n",
        "print(f\"Keras Model - Highest Testing Accuracy: {highest_accuracy_keras2:.4f}\")"
      ],
      "metadata": {
        "id": "vWQJ-ZgUd623"
      },
      "execution_count": null,
      "outputs": []
    },
    {
      "cell_type": "code",
      "source": [
        "# Plot the accuracies\n",
        "plt.figure(figsize=(10, 6))\n",
        "plt.plot(thresholds, train_accuracies_keras, label='Keras Training Accuracy')\n",
        "plt.plot(thresholds, test_accuracies_keras, label='Keras Testing Accuracy')\n",
        "plt.axhline(y=baseline_accuracy, color='r', linestyle='--', label='Baseline Accuracy') # Add baseline\n",
        "plt.xlabel('Threshold')\n",
        "plt.ylabel('Accuracy')\n",
        "plt.title('Keras Model Accuracy vs. Threshold')\n",
        "plt.legend()\n",
        "plt.grid(True)\n",
        "plt.show()"
      ],
      "metadata": {
        "id": "xGUaBoSFF9Qe"
      },
      "execution_count": null,
      "outputs": []
    },
    {
      "cell_type": "code",
      "source": [
        "kmodel.summary()"
      ],
      "metadata": {
        "id": "Incm6c1Rl-N5"
      },
      "execution_count": null,
      "outputs": []
    },
    {
      "cell_type": "markdown",
      "source": [
        "# Comparing results"
      ],
      "metadata": {
        "id": "Z9duVerw9AYQ"
      }
    },
    {
      "cell_type": "code",
      "source": [
        "print(\"Model Performance Comparison:\")\n",
        "print(\"-\" * 30)\n",
        "print(f\"Logistic Regression:\")\n",
        "print(f\"  Highest Testing Accuracy: {highest_accuracy_lr:.4f}\")\n",
        "print(f\"  Best Threshold: {best_threshold_lr:.2f}\")\n",
        "print(\"-\" * 30)\n",
        "print(f\"Simple Keras Model:\")\n",
        "print(f\"  Highest Testing Accuracy: {highest_accuracy_keras:.4f}\")\n",
        "print(f\"  Best Threshold: {best_threshold_keras:.2f}\")\n",
        "print(\"-\" * 30)\n",
        "print(f\"More Complex Keras Model (with Dropout):\")\n",
        "print(f\"  Highest Testing Accuracy: {highest_accuracy_keras2:.4f}\")\n",
        "print(f\"  Best Threshold: {best_threshold_keras2:.2f}\")\n",
        "print(\"-\" * 30)"
      ],
      "metadata": {
        "id": "M_i8CiSMCy-4"
      },
      "execution_count": null,
      "outputs": []
    },
    {
      "cell_type": "code",
      "source": [
        "# What's the baseline classifications?\n",
        "\n",
        "# Calculate the proportion of the majority class in the target variable y\n",
        "baseline_accuracy = y.value_counts(normalize=True).max()\n",
        "\n",
        "print(f\"Baseline Classification Accuracy (predicting the majority class): {baseline_accuracy:.4f}\")"
      ],
      "metadata": {
        "id": "aGmsX02PH2b3"
      },
      "execution_count": null,
      "outputs": []
    },
    {
      "cell_type": "markdown",
      "source": [
        "Ask Gemini: The baseline is so high. So my evaluation metics should be something else. What should it be?"
      ],
      "metadata": {
        "id": "AJHmtKCQIxLO"
      }
    }
  ]
}