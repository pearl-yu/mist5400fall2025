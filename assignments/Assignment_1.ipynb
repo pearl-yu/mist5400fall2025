{
  "nbformat": 4,
  "nbformat_minor": 0,
  "metadata": {
    "colab": {
      "provenance": [],
      "authorship_tag": "ABX9TyOm2wLDJsF0Qbl2xUuFCqvy",
      "include_colab_link": true
    },
    "kernelspec": {
      "name": "python3",
      "display_name": "Python 3"
    },
    "language_info": {
      "name": "python"
    }
  },
  "cells": [
    {
      "cell_type": "markdown",
      "metadata": {
        "id": "view-in-github",
        "colab_type": "text"
      },
      "source": [
        "<a href=\"https://colab.research.google.com/github/pearl-yu/mist5400fall2025/blob/main/assignments/Assignment_1.ipynb\" target=\"_parent\"><img src=\"https://colab.research.google.com/assets/colab-badge.svg\" alt=\"Open In Colab\"/></a>"
      ]
    },
    {
      "cell_type": "markdown",
      "source": [
        "# Save this notebook to your Google Drive first!"
      ],
      "metadata": {
        "id": "jsCiybjQrkVe"
      }
    },
    {
      "cell_type": "markdown",
      "source": [
        "# Assignment 1\n",
        "\n",
        "*MIST 5400 Fall 2025. *\n",
        "\n",
        "This assignment has two parts.\n",
        "\n",
        "\n",
        "*   The goal of the first part is to practice our technical prompting skills.\n",
        "*   The goal of the second part is to practice business understanding for developing AI systems, and start to think of use cases of AI in businesses.\n",
        "\n",
        "\n",
        "**Download the notebook as .ipynb file and upload to Assignment -> Assignment 1 in eLC.**\n",
        "\n"
      ],
      "metadata": {
        "id": "nG4K-QjpqL-Q"
      }
    },
    {
      "cell_type": "markdown",
      "source": [
        "## Part I: Practicing Model Fitting with the help of Gemini\n",
        "\n",
        "\n",
        "We've used the same dataset in week 1 in the Code_with_AI notebook.\n",
        "\n",
        "\n",
        "It contains a number of variables for 777 different universities and colleges in the US. The variables are:\n",
        "\n",
        "- Private : Public/private indicator\n",
        "- Apps : Number of applications received\n",
        "- Accept : Number of applicants accepted\n",
        "- Enroll : Number of new students enrolled\n",
        "- Top10perc : New students from top 10 % of high school class\n",
        "- Top25perc : New students from top 25 % of high school class\n",
        "- F. Undergrad : Number of full-time undergraduates\n",
        "- P.Undergrad : Number of part-time undergraduates\n",
        "- Outstate : Out-of-state tuition\n",
        "- Room.Board : Room and board costs\n",
        "- Books : Estimated book costs\n",
        "- Personal : Estimated personal spending\n",
        "- PhD : Percent of faculty with Ph.D.s\n",
        "- Terminal : Percent of faculty with terminal degree\n",
        "- S.F.Ratio : Student/faculty ratio\n",
        "- perc.alumni : Percent of alumni who donate\n",
        "- Expend : Instructional expenditure per student\n",
        "- Grad.Rate : Graduation rate\n",
        "\n",
        "\n",
        "Let's practice to build a model to predict the graduation rate."
      ],
      "metadata": {
        "id": "9TL4_yAykVEv"
      }
    },
    {
      "cell_type": "code",
      "source": [
        "#start by importing packages\n",
        "\n",
        "import numpy as np # arithmetic and algebra\n",
        "import pandas as pd  # data manipulation\n",
        "import sklearn as sk # machine learning and predictive models\n",
        "import matplotlib.pyplot as plt # data plotting\n",
        "import seaborn as sns # advanced visualization"
      ],
      "metadata": {
        "id": "4Fa6-q8UoNsQ"
      },
      "execution_count": null,
      "outputs": []
    },
    {
      "cell_type": "code",
      "source": [
        "# Download the dataset directly from Kaggle API and import the dataset\n",
        "\n",
        "import kagglehub\n",
        "\n",
        "path = kagglehub.dataset_download(\"yashgpt/us-college-data\")\n",
        "\n",
        "college = pd.read_csv(path +'/College_Data.csv')\n",
        "\n",
        "college.head()"
      ],
      "metadata": {
        "colab": {
          "base_uri": "https://localhost:8080/",
          "height": 382
        },
        "id": "g9peIPFdop6W",
        "outputId": "476bd690-73cc-4547-f164-1e95864f8376"
      },
      "execution_count": null,
      "outputs": [
        {
          "output_type": "execute_result",
          "data": {
            "text/plain": [
              "                     Unnamed: 0 Private  Apps  Accept  Enroll  Top10perc  \\\n",
              "0  Abilene Christian University     Yes  1660    1232     721         23   \n",
              "1            Adelphi University     Yes  2186    1924     512         16   \n",
              "2                Adrian College     Yes  1428    1097     336         22   \n",
              "3           Agnes Scott College     Yes   417     349     137         60   \n",
              "4     Alaska Pacific University     Yes   193     146      55         16   \n",
              "\n",
              "   Top25perc  F.Undergrad  P.Undergrad  Outstate  Room.Board  Books  Personal  \\\n",
              "0         52         2885          537      7440        3300    450      2200   \n",
              "1         29         2683         1227     12280        6450    750      1500   \n",
              "2         50         1036           99     11250        3750    400      1165   \n",
              "3         89          510           63     12960        5450    450       875   \n",
              "4         44          249          869      7560        4120    800      1500   \n",
              "\n",
              "   PhD  Terminal  S.F.Ratio  perc.alumni  Expend  Grad.Rate  \n",
              "0   70        78       18.1           12    7041         60  \n",
              "1   29        30       12.2           16   10527         56  \n",
              "2   53        66       12.9           30    8735         54  \n",
              "3   92        97        7.7           37   19016         59  \n",
              "4   76        72       11.9            2   10922         15  "
            ],
            "text/html": [
              "\n",
              "  <div id=\"df-6dd7dc10-a122-411b-898c-00a4fb9a847b\" class=\"colab-df-container\">\n",
              "    <div>\n",
              "<style scoped>\n",
              "    .dataframe tbody tr th:only-of-type {\n",
              "        vertical-align: middle;\n",
              "    }\n",
              "\n",
              "    .dataframe tbody tr th {\n",
              "        vertical-align: top;\n",
              "    }\n",
              "\n",
              "    .dataframe thead th {\n",
              "        text-align: right;\n",
              "    }\n",
              "</style>\n",
              "<table border=\"1\" class=\"dataframe\">\n",
              "  <thead>\n",
              "    <tr style=\"text-align: right;\">\n",
              "      <th></th>\n",
              "      <th>Unnamed: 0</th>\n",
              "      <th>Private</th>\n",
              "      <th>Apps</th>\n",
              "      <th>Accept</th>\n",
              "      <th>Enroll</th>\n",
              "      <th>Top10perc</th>\n",
              "      <th>Top25perc</th>\n",
              "      <th>F.Undergrad</th>\n",
              "      <th>P.Undergrad</th>\n",
              "      <th>Outstate</th>\n",
              "      <th>Room.Board</th>\n",
              "      <th>Books</th>\n",
              "      <th>Personal</th>\n",
              "      <th>PhD</th>\n",
              "      <th>Terminal</th>\n",
              "      <th>S.F.Ratio</th>\n",
              "      <th>perc.alumni</th>\n",
              "      <th>Expend</th>\n",
              "      <th>Grad.Rate</th>\n",
              "    </tr>\n",
              "  </thead>\n",
              "  <tbody>\n",
              "    <tr>\n",
              "      <th>0</th>\n",
              "      <td>Abilene Christian University</td>\n",
              "      <td>Yes</td>\n",
              "      <td>1660</td>\n",
              "      <td>1232</td>\n",
              "      <td>721</td>\n",
              "      <td>23</td>\n",
              "      <td>52</td>\n",
              "      <td>2885</td>\n",
              "      <td>537</td>\n",
              "      <td>7440</td>\n",
              "      <td>3300</td>\n",
              "      <td>450</td>\n",
              "      <td>2200</td>\n",
              "      <td>70</td>\n",
              "      <td>78</td>\n",
              "      <td>18.1</td>\n",
              "      <td>12</td>\n",
              "      <td>7041</td>\n",
              "      <td>60</td>\n",
              "    </tr>\n",
              "    <tr>\n",
              "      <th>1</th>\n",
              "      <td>Adelphi University</td>\n",
              "      <td>Yes</td>\n",
              "      <td>2186</td>\n",
              "      <td>1924</td>\n",
              "      <td>512</td>\n",
              "      <td>16</td>\n",
              "      <td>29</td>\n",
              "      <td>2683</td>\n",
              "      <td>1227</td>\n",
              "      <td>12280</td>\n",
              "      <td>6450</td>\n",
              "      <td>750</td>\n",
              "      <td>1500</td>\n",
              "      <td>29</td>\n",
              "      <td>30</td>\n",
              "      <td>12.2</td>\n",
              "      <td>16</td>\n",
              "      <td>10527</td>\n",
              "      <td>56</td>\n",
              "    </tr>\n",
              "    <tr>\n",
              "      <th>2</th>\n",
              "      <td>Adrian College</td>\n",
              "      <td>Yes</td>\n",
              "      <td>1428</td>\n",
              "      <td>1097</td>\n",
              "      <td>336</td>\n",
              "      <td>22</td>\n",
              "      <td>50</td>\n",
              "      <td>1036</td>\n",
              "      <td>99</td>\n",
              "      <td>11250</td>\n",
              "      <td>3750</td>\n",
              "      <td>400</td>\n",
              "      <td>1165</td>\n",
              "      <td>53</td>\n",
              "      <td>66</td>\n",
              "      <td>12.9</td>\n",
              "      <td>30</td>\n",
              "      <td>8735</td>\n",
              "      <td>54</td>\n",
              "    </tr>\n",
              "    <tr>\n",
              "      <th>3</th>\n",
              "      <td>Agnes Scott College</td>\n",
              "      <td>Yes</td>\n",
              "      <td>417</td>\n",
              "      <td>349</td>\n",
              "      <td>137</td>\n",
              "      <td>60</td>\n",
              "      <td>89</td>\n",
              "      <td>510</td>\n",
              "      <td>63</td>\n",
              "      <td>12960</td>\n",
              "      <td>5450</td>\n",
              "      <td>450</td>\n",
              "      <td>875</td>\n",
              "      <td>92</td>\n",
              "      <td>97</td>\n",
              "      <td>7.7</td>\n",
              "      <td>37</td>\n",
              "      <td>19016</td>\n",
              "      <td>59</td>\n",
              "    </tr>\n",
              "    <tr>\n",
              "      <th>4</th>\n",
              "      <td>Alaska Pacific University</td>\n",
              "      <td>Yes</td>\n",
              "      <td>193</td>\n",
              "      <td>146</td>\n",
              "      <td>55</td>\n",
              "      <td>16</td>\n",
              "      <td>44</td>\n",
              "      <td>249</td>\n",
              "      <td>869</td>\n",
              "      <td>7560</td>\n",
              "      <td>4120</td>\n",
              "      <td>800</td>\n",
              "      <td>1500</td>\n",
              "      <td>76</td>\n",
              "      <td>72</td>\n",
              "      <td>11.9</td>\n",
              "      <td>2</td>\n",
              "      <td>10922</td>\n",
              "      <td>15</td>\n",
              "    </tr>\n",
              "  </tbody>\n",
              "</table>\n",
              "</div>\n",
              "    <div class=\"colab-df-buttons\">\n",
              "\n",
              "  <div class=\"colab-df-container\">\n",
              "    <button class=\"colab-df-convert\" onclick=\"convertToInteractive('df-6dd7dc10-a122-411b-898c-00a4fb9a847b')\"\n",
              "            title=\"Convert this dataframe to an interactive table.\"\n",
              "            style=\"display:none;\">\n",
              "\n",
              "  <svg xmlns=\"http://www.w3.org/2000/svg\" height=\"24px\" viewBox=\"0 -960 960 960\">\n",
              "    <path d=\"M120-120v-720h720v720H120Zm60-500h600v-160H180v160Zm220 220h160v-160H400v160Zm0 220h160v-160H400v160ZM180-400h160v-160H180v160Zm440 0h160v-160H620v160ZM180-180h160v-160H180v160Zm440 0h160v-160H620v160Z\"/>\n",
              "  </svg>\n",
              "    </button>\n",
              "\n",
              "  <style>\n",
              "    .colab-df-container {\n",
              "      display:flex;\n",
              "      gap: 12px;\n",
              "    }\n",
              "\n",
              "    .colab-df-convert {\n",
              "      background-color: #E8F0FE;\n",
              "      border: none;\n",
              "      border-radius: 50%;\n",
              "      cursor: pointer;\n",
              "      display: none;\n",
              "      fill: #1967D2;\n",
              "      height: 32px;\n",
              "      padding: 0 0 0 0;\n",
              "      width: 32px;\n",
              "    }\n",
              "\n",
              "    .colab-df-convert:hover {\n",
              "      background-color: #E2EBFA;\n",
              "      box-shadow: 0px 1px 2px rgba(60, 64, 67, 0.3), 0px 1px 3px 1px rgba(60, 64, 67, 0.15);\n",
              "      fill: #174EA6;\n",
              "    }\n",
              "\n",
              "    .colab-df-buttons div {\n",
              "      margin-bottom: 4px;\n",
              "    }\n",
              "\n",
              "    [theme=dark] .colab-df-convert {\n",
              "      background-color: #3B4455;\n",
              "      fill: #D2E3FC;\n",
              "    }\n",
              "\n",
              "    [theme=dark] .colab-df-convert:hover {\n",
              "      background-color: #434B5C;\n",
              "      box-shadow: 0px 1px 3px 1px rgba(0, 0, 0, 0.15);\n",
              "      filter: drop-shadow(0px 1px 2px rgba(0, 0, 0, 0.3));\n",
              "      fill: #FFFFFF;\n",
              "    }\n",
              "  </style>\n",
              "\n",
              "    <script>\n",
              "      const buttonEl =\n",
              "        document.querySelector('#df-6dd7dc10-a122-411b-898c-00a4fb9a847b button.colab-df-convert');\n",
              "      buttonEl.style.display =\n",
              "        google.colab.kernel.accessAllowed ? 'block' : 'none';\n",
              "\n",
              "      async function convertToInteractive(key) {\n",
              "        const element = document.querySelector('#df-6dd7dc10-a122-411b-898c-00a4fb9a847b');\n",
              "        const dataTable =\n",
              "          await google.colab.kernel.invokeFunction('convertToInteractive',\n",
              "                                                    [key], {});\n",
              "        if (!dataTable) return;\n",
              "\n",
              "        const docLinkHtml = 'Like what you see? Visit the ' +\n",
              "          '<a target=\"_blank\" href=https://colab.research.google.com/notebooks/data_table.ipynb>data table notebook</a>'\n",
              "          + ' to learn more about interactive tables.';\n",
              "        element.innerHTML = '';\n",
              "        dataTable['output_type'] = 'display_data';\n",
              "        await google.colab.output.renderOutput(dataTable, element);\n",
              "        const docLink = document.createElement('div');\n",
              "        docLink.innerHTML = docLinkHtml;\n",
              "        element.appendChild(docLink);\n",
              "      }\n",
              "    </script>\n",
              "  </div>\n",
              "\n",
              "\n",
              "    <div id=\"df-2d559fce-abde-4edc-b757-1e46a0020344\">\n",
              "      <button class=\"colab-df-quickchart\" onclick=\"quickchart('df-2d559fce-abde-4edc-b757-1e46a0020344')\"\n",
              "                title=\"Suggest charts\"\n",
              "                style=\"display:none;\">\n",
              "\n",
              "<svg xmlns=\"http://www.w3.org/2000/svg\" height=\"24px\"viewBox=\"0 0 24 24\"\n",
              "     width=\"24px\">\n",
              "    <g>\n",
              "        <path d=\"M19 3H5c-1.1 0-2 .9-2 2v14c0 1.1.9 2 2 2h14c1.1 0 2-.9 2-2V5c0-1.1-.9-2-2-2zM9 17H7v-7h2v7zm4 0h-2V7h2v10zm4 0h-2v-4h2v4z\"/>\n",
              "    </g>\n",
              "</svg>\n",
              "      </button>\n",
              "\n",
              "<style>\n",
              "  .colab-df-quickchart {\n",
              "      --bg-color: #E8F0FE;\n",
              "      --fill-color: #1967D2;\n",
              "      --hover-bg-color: #E2EBFA;\n",
              "      --hover-fill-color: #174EA6;\n",
              "      --disabled-fill-color: #AAA;\n",
              "      --disabled-bg-color: #DDD;\n",
              "  }\n",
              "\n",
              "  [theme=dark] .colab-df-quickchart {\n",
              "      --bg-color: #3B4455;\n",
              "      --fill-color: #D2E3FC;\n",
              "      --hover-bg-color: #434B5C;\n",
              "      --hover-fill-color: #FFFFFF;\n",
              "      --disabled-bg-color: #3B4455;\n",
              "      --disabled-fill-color: #666;\n",
              "  }\n",
              "\n",
              "  .colab-df-quickchart {\n",
              "    background-color: var(--bg-color);\n",
              "    border: none;\n",
              "    border-radius: 50%;\n",
              "    cursor: pointer;\n",
              "    display: none;\n",
              "    fill: var(--fill-color);\n",
              "    height: 32px;\n",
              "    padding: 0;\n",
              "    width: 32px;\n",
              "  }\n",
              "\n",
              "  .colab-df-quickchart:hover {\n",
              "    background-color: var(--hover-bg-color);\n",
              "    box-shadow: 0 1px 2px rgba(60, 64, 67, 0.3), 0 1px 3px 1px rgba(60, 64, 67, 0.15);\n",
              "    fill: var(--button-hover-fill-color);\n",
              "  }\n",
              "\n",
              "  .colab-df-quickchart-complete:disabled,\n",
              "  .colab-df-quickchart-complete:disabled:hover {\n",
              "    background-color: var(--disabled-bg-color);\n",
              "    fill: var(--disabled-fill-color);\n",
              "    box-shadow: none;\n",
              "  }\n",
              "\n",
              "  .colab-df-spinner {\n",
              "    border: 2px solid var(--fill-color);\n",
              "    border-color: transparent;\n",
              "    border-bottom-color: var(--fill-color);\n",
              "    animation:\n",
              "      spin 1s steps(1) infinite;\n",
              "  }\n",
              "\n",
              "  @keyframes spin {\n",
              "    0% {\n",
              "      border-color: transparent;\n",
              "      border-bottom-color: var(--fill-color);\n",
              "      border-left-color: var(--fill-color);\n",
              "    }\n",
              "    20% {\n",
              "      border-color: transparent;\n",
              "      border-left-color: var(--fill-color);\n",
              "      border-top-color: var(--fill-color);\n",
              "    }\n",
              "    30% {\n",
              "      border-color: transparent;\n",
              "      border-left-color: var(--fill-color);\n",
              "      border-top-color: var(--fill-color);\n",
              "      border-right-color: var(--fill-color);\n",
              "    }\n",
              "    40% {\n",
              "      border-color: transparent;\n",
              "      border-right-color: var(--fill-color);\n",
              "      border-top-color: var(--fill-color);\n",
              "    }\n",
              "    60% {\n",
              "      border-color: transparent;\n",
              "      border-right-color: var(--fill-color);\n",
              "    }\n",
              "    80% {\n",
              "      border-color: transparent;\n",
              "      border-right-color: var(--fill-color);\n",
              "      border-bottom-color: var(--fill-color);\n",
              "    }\n",
              "    90% {\n",
              "      border-color: transparent;\n",
              "      border-bottom-color: var(--fill-color);\n",
              "    }\n",
              "  }\n",
              "</style>\n",
              "\n",
              "      <script>\n",
              "        async function quickchart(key) {\n",
              "          const quickchartButtonEl =\n",
              "            document.querySelector('#' + key + ' button');\n",
              "          quickchartButtonEl.disabled = true;  // To prevent multiple clicks.\n",
              "          quickchartButtonEl.classList.add('colab-df-spinner');\n",
              "          try {\n",
              "            const charts = await google.colab.kernel.invokeFunction(\n",
              "                'suggestCharts', [key], {});\n",
              "          } catch (error) {\n",
              "            console.error('Error during call to suggestCharts:', error);\n",
              "          }\n",
              "          quickchartButtonEl.classList.remove('colab-df-spinner');\n",
              "          quickchartButtonEl.classList.add('colab-df-quickchart-complete');\n",
              "        }\n",
              "        (() => {\n",
              "          let quickchartButtonEl =\n",
              "            document.querySelector('#df-2d559fce-abde-4edc-b757-1e46a0020344 button');\n",
              "          quickchartButtonEl.style.display =\n",
              "            google.colab.kernel.accessAllowed ? 'block' : 'none';\n",
              "        })();\n",
              "      </script>\n",
              "    </div>\n",
              "\n",
              "    </div>\n",
              "  </div>\n"
            ],
            "application/vnd.google.colaboratory.intrinsic+json": {
              "type": "dataframe",
              "variable_name": "college",
              "summary": "{\n  \"name\": \"college\",\n  \"rows\": 777,\n  \"fields\": [\n    {\n      \"column\": \"Unnamed: 0\",\n      \"properties\": {\n        \"dtype\": \"string\",\n        \"num_unique_values\": 777,\n        \"samples\": [\n          \"SUNY College at Fredonia\",\n          \"Southeast Missouri State University\",\n          \"University of Cincinnati\"\n        ],\n        \"semantic_type\": \"\",\n        \"description\": \"\"\n      }\n    },\n    {\n      \"column\": \"Private\",\n      \"properties\": {\n        \"dtype\": \"category\",\n        \"num_unique_values\": 2,\n        \"samples\": [\n          \"No\",\n          \"Yes\"\n        ],\n        \"semantic_type\": \"\",\n        \"description\": \"\"\n      }\n    },\n    {\n      \"column\": \"Apps\",\n      \"properties\": {\n        \"dtype\": \"number\",\n        \"std\": 3870,\n        \"min\": 81,\n        \"max\": 48094,\n        \"num_unique_values\": 711,\n        \"samples\": [\n          323,\n          1127\n        ],\n        \"semantic_type\": \"\",\n        \"description\": \"\"\n      }\n    },\n    {\n      \"column\": \"Accept\",\n      \"properties\": {\n        \"dtype\": \"number\",\n        \"std\": 2451,\n        \"min\": 72,\n        \"max\": 26330,\n        \"num_unique_values\": 693,\n        \"samples\": [\n          689,\n          1623\n        ],\n        \"semantic_type\": \"\",\n        \"description\": \"\"\n      }\n    },\n    {\n      \"column\": \"Enroll\",\n      \"properties\": {\n        \"dtype\": \"number\",\n        \"std\": 929,\n        \"min\": 35,\n        \"max\": 6392,\n        \"num_unique_values\": 581,\n        \"samples\": [\n          769,\n          223\n        ],\n        \"semantic_type\": \"\",\n        \"description\": \"\"\n      }\n    },\n    {\n      \"column\": \"Top10perc\",\n      \"properties\": {\n        \"dtype\": \"number\",\n        \"std\": 17,\n        \"min\": 1,\n        \"max\": 96,\n        \"num_unique_values\": 82,\n        \"samples\": [\n          67,\n          23\n        ],\n        \"semantic_type\": \"\",\n        \"description\": \"\"\n      }\n    },\n    {\n      \"column\": \"Top25perc\",\n      \"properties\": {\n        \"dtype\": \"number\",\n        \"std\": 19,\n        \"min\": 9,\n        \"max\": 100,\n        \"num_unique_values\": 89,\n        \"samples\": [\n          100,\n          65\n        ],\n        \"semantic_type\": \"\",\n        \"description\": \"\"\n      }\n    },\n    {\n      \"column\": \"F.Undergrad\",\n      \"properties\": {\n        \"dtype\": \"number\",\n        \"std\": 4850,\n        \"min\": 139,\n        \"max\": 31643,\n        \"num_unique_values\": 714,\n        \"samples\": [\n          2649,\n          2997\n        ],\n        \"semantic_type\": \"\",\n        \"description\": \"\"\n      }\n    },\n    {\n      \"column\": \"P.Undergrad\",\n      \"properties\": {\n        \"dtype\": \"number\",\n        \"std\": 1522,\n        \"min\": 1,\n        \"max\": 21836,\n        \"num_unique_values\": 566,\n        \"samples\": [\n          1344,\n          1552\n        ],\n        \"semantic_type\": \"\",\n        \"description\": \"\"\n      }\n    },\n    {\n      \"column\": \"Outstate\",\n      \"properties\": {\n        \"dtype\": \"number\",\n        \"std\": 4023,\n        \"min\": 2340,\n        \"max\": 21700,\n        \"num_unique_values\": 640,\n        \"samples\": [\n          5764,\n          6995\n        ],\n        \"semantic_type\": \"\",\n        \"description\": \"\"\n      }\n    },\n    {\n      \"column\": \"Room.Board\",\n      \"properties\": {\n        \"dtype\": \"number\",\n        \"std\": 1096,\n        \"min\": 1780,\n        \"max\": 8124,\n        \"num_unique_values\": 553,\n        \"samples\": [\n          3392,\n          3150\n        ],\n        \"semantic_type\": \"\",\n        \"description\": \"\"\n      }\n    },\n    {\n      \"column\": \"Books\",\n      \"properties\": {\n        \"dtype\": \"number\",\n        \"std\": 165,\n        \"min\": 96,\n        \"max\": 2340,\n        \"num_unique_values\": 122,\n        \"samples\": [\n          475,\n          670\n        ],\n        \"semantic_type\": \"\",\n        \"description\": \"\"\n      }\n    },\n    {\n      \"column\": \"Personal\",\n      \"properties\": {\n        \"dtype\": \"number\",\n        \"std\": 677,\n        \"min\": 250,\n        \"max\": 6800,\n        \"num_unique_values\": 294,\n        \"samples\": [\n          250,\n          1000\n        ],\n        \"semantic_type\": \"\",\n        \"description\": \"\"\n      }\n    },\n    {\n      \"column\": \"PhD\",\n      \"properties\": {\n        \"dtype\": \"number\",\n        \"std\": 16,\n        \"min\": 8,\n        \"max\": 103,\n        \"num_unique_values\": 78,\n        \"samples\": [\n          61,\n          70\n        ],\n        \"semantic_type\": \"\",\n        \"description\": \"\"\n      }\n    },\n    {\n      \"column\": \"Terminal\",\n      \"properties\": {\n        \"dtype\": \"number\",\n        \"std\": 14,\n        \"min\": 24,\n        \"max\": 100,\n        \"num_unique_values\": 65,\n        \"samples\": [\n          43,\n          54\n        ],\n        \"semantic_type\": \"\",\n        \"description\": \"\"\n      }\n    },\n    {\n      \"column\": \"S.F.Ratio\",\n      \"properties\": {\n        \"dtype\": \"number\",\n        \"std\": 3.958349135205549,\n        \"min\": 2.5,\n        \"max\": 39.8,\n        \"num_unique_values\": 173,\n        \"samples\": [\n          25.3,\n          14.0\n        ],\n        \"semantic_type\": \"\",\n        \"description\": \"\"\n      }\n    },\n    {\n      \"column\": \"perc.alumni\",\n      \"properties\": {\n        \"dtype\": \"number\",\n        \"std\": 12,\n        \"min\": 0,\n        \"max\": 64,\n        \"num_unique_values\": 61,\n        \"samples\": [\n          12,\n          11\n        ],\n        \"semantic_type\": \"\",\n        \"description\": \"\"\n      }\n    },\n    {\n      \"column\": \"Expend\",\n      \"properties\": {\n        \"dtype\": \"number\",\n        \"std\": 5221,\n        \"min\": 3186,\n        \"max\": 56233,\n        \"num_unique_values\": 744,\n        \"samples\": [\n          17500,\n          13705\n        ],\n        \"semantic_type\": \"\",\n        \"description\": \"\"\n      }\n    },\n    {\n      \"column\": \"Grad.Rate\",\n      \"properties\": {\n        \"dtype\": \"number\",\n        \"std\": 17,\n        \"min\": 10,\n        \"max\": 118,\n        \"num_unique_values\": 81,\n        \"samples\": [\n          35,\n          60\n        ],\n        \"semantic_type\": \"\",\n        \"description\": \"\"\n      }\n    }\n  ]\n}"
            }
          },
          "metadata": {},
          "execution_count": 3
        }
      ]
    },
    {
      "cell_type": "markdown",
      "source": [
        "### 1. Write the prompt and code to plot the distribution of graduation rate"
      ],
      "metadata": {
        "id": "pf6lDIOno9hD"
      }
    },
    {
      "cell_type": "code",
      "source": [],
      "metadata": {
        "id": "U_0ZJSmmpffW"
      },
      "execution_count": null,
      "outputs": []
    },
    {
      "cell_type": "markdown",
      "source": [
        "### 2. Split the dataset into a training and testing set."
      ],
      "metadata": {
        "id": "NySQBGW8pgLl"
      }
    },
    {
      "cell_type": "code",
      "source": [],
      "metadata": {
        "id": "gQmQSxn3otuL"
      },
      "execution_count": null,
      "outputs": []
    },
    {
      "cell_type": "markdown",
      "source": [
        "### 3. Define a linear regression model and the features you'd like to use, and train it on the training set."
      ],
      "metadata": {
        "id": "vi3mPeKApoLE"
      }
    },
    {
      "cell_type": "code",
      "source": [],
      "metadata": {
        "id": "504nqDDypuD-"
      },
      "execution_count": null,
      "outputs": []
    },
    {
      "cell_type": "markdown",
      "source": [
        "### 4. Make predictions on the training and testing set. Ask for the MSE and compare. Is there overfitting?"
      ],
      "metadata": {
        "id": "4BquJqE5pvE_"
      }
    },
    {
      "cell_type": "code",
      "source": [],
      "metadata": {
        "id": "pXPIx0vwqH04"
      },
      "execution_count": null,
      "outputs": []
    },
    {
      "cell_type": "markdown",
      "source": [
        "## Part II: AI in Business\n",
        "\n",
        "Just type your answers into the text cells."
      ],
      "metadata": {
        "id": "wgb8aa1GmNBX"
      }
    },
    {
      "cell_type": "markdown",
      "source": [
        "### 1. Find an article describing a business problem where an AI system was build to help. Paste the link in the cell below.\n"
      ],
      "metadata": {
        "id": "HvXYb5VgmQn4"
      }
    },
    {
      "cell_type": "markdown",
      "source": [],
      "metadata": {
        "id": "FlexWpOzm3rI"
      }
    },
    {
      "cell_type": "markdown",
      "source": [
        "### 2. Why did the company think an AI system could help?"
      ],
      "metadata": {
        "id": "XFmlaZl_mM2p"
      }
    },
    {
      "cell_type": "markdown",
      "source": [],
      "metadata": {
        "id": "cjGpCueInWsG"
      }
    },
    {
      "cell_type": "markdown",
      "source": [
        "### 3. What considerations were there when developing the AI system about the users of the sysem?  "
      ],
      "metadata": {
        "id": "4qtZ5n-xnXID"
      }
    },
    {
      "cell_type": "markdown",
      "source": [],
      "metadata": {
        "id": "b_NufAwboB9U"
      }
    },
    {
      "cell_type": "markdown",
      "source": [
        "### 4. Did the article mention anything about the data they have for training? What data did they have?"
      ],
      "metadata": {
        "id": "4Gx8mg_2oCXn"
      }
    },
    {
      "cell_type": "markdown",
      "source": [],
      "metadata": {
        "id": "lboLTt7XnV9l"
      }
    }
  ]
}