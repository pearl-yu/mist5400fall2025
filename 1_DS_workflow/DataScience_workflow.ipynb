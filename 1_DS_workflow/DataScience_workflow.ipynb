{
  "nbformat": 4,
  "nbformat_minor": 0,
  "metadata": {
    "colab": {
      "provenance": [],
      "authorship_tag": "ABX9TyNcBdv2pPCdoNnbLYHS8tgI",
      "include_colab_link": true
    },
    "kernelspec": {
      "name": "python3",
      "display_name": "Python 3"
    },
    "language_info": {
      "name": "python"
    }
  },
  "cells": [
    {
      "cell_type": "markdown",
      "metadata": {
        "id": "view-in-github",
        "colab_type": "text"
      },
      "source": [
        "<a href=\"https://colab.research.google.com/github/pearl-yu/mist5400fall2025/blob/main/1_DS_workflow/DataScience_workflow.ipynb\" target=\"_parent\"><img src=\"https://colab.research.google.com/assets/colab-badge.svg\" alt=\"Open In Colab\"/></a>"
      ]
    },
    {
      "cell_type": "code",
      "source": [
        "# This is cloning Pearl's Github repository that has the dataset.\n",
        "!git clone https://github.com/pearl-yu/mist5400fall2025.git\n",
        "%cd mist5400fall2025/1_DS_workflow/"
      ],
      "metadata": {
        "id": "ERIFxP12CeUW"
      },
      "execution_count": null,
      "outputs": []
    },
    {
      "cell_type": "markdown",
      "source": [
        "# IF OPENING IN COLAB, REMEMBER TO SAVE THIS NOTEBOOK TO GOOGLE DRIVE!"
      ],
      "metadata": {
        "id": "u8BmmnkkCOpa"
      }
    },
    {
      "cell_type": "markdown",
      "source": [
        "Today, you'll see, equipped with the conceptual knowledge, we're able to code everything up and run AI models with just prompts!"
      ],
      "metadata": {
        "id": "Xj5ZMCPqWlVX"
      }
    },
    {
      "cell_type": "markdown",
      "source": [
        "# Predicting Churn\n",
        "\n",
        "After discussing the churn problem at TelCo with Henrietta for a while (remember, from your pre-class assignment?), you've finally defined an adequate target variable for churn and gathered relevant data to predict it. Moreover, the marketing department has come up with an amazing retention offer: the offer is guaranteed to convince customers to extend their contract for an extra year after receiving it. Unfortunately, the offer is quite expensive; it costs $200. You've been authorized to give the retention offer to up to 25% of the customers whose contracts are expiring.\n",
        "\n",
        "It is your job to use data from previous contract expirations to build a churn predictive model and make a recommendation of whom to target with the offers. You have assembled the best historical data set you can at this point, which includes:\n",
        "\n",
        "- Gender: Whether the customer is a male or a female\n",
        "- SeniorCitizen: Whether the customer is a senior citizen or not (1, 0)\n",
        "- Partner: Whether the customer has a partner or not (Yes, No)\n",
        "- Dependents: Whether the customer has dependents or not (Yes, No)\n",
        "- tenure: Number of months the customer has stayed with the company\n",
        "- PhoneService: Whether the customer has a phone service or not (Yes, No)\n",
        "- MultipleLines: Whether the customer has multiple lines or not (Yes, No, No phone service)\n",
        "- InternetService: Customer’s internet service provider (DSL, Fiber optic, No)\n",
        "- OnlineSecurity: Whether the customer has online security or not (Yes, No, No internet service)\n",
        "- OnlineBackup: Whether the customer has online backup or not (Yes, No, No internet service)\n",
        "- DeviceProtection: Whether the customer has device protection or not (Yes, No, No internet service)\n",
        "- TechSupport: Whether the customer has tech support or not (Yes, No, No internet service)\n",
        "- StreamingTV: Whether the customer has streaming TV or not (Yes, No, No internet service)\n",
        "- StreamingMovies: Whether the customer has streaming movies or not (Yes, No, No internet service)\n",
        "- Contract: The contract term of the customer (Month-to-month, One year, Two year)\n",
        "- PaperlessBilling: Whether the customer has paperless billing or not (Yes, No)\n",
        "- PaymentMethod: The customer’s payment method (Electronic check, Mailed check, Bank transfer (automatic), Credit card (automatic))\n",
        "- MonthlyCharges: The amount charged to the customer monthly\n",
        "- Churn: Whether the customer churned or not shortly after contract expiration (Yes or No)"
      ],
      "metadata": {
        "id": "PIuAE56oCRRz"
      }
    },
    {
      "cell_type": "markdown",
      "source": [
        "## Step 1. Load the churn data, Preprocessing, Initial exploration"
      ],
      "metadata": {
        "id": "qfbKe6DLCVzg"
      }
    },
    {
      "cell_type": "markdown",
      "source": [
        "### 1a. Load data\n",
        "Since we cloned the github repo, we could read in the dataset directly.\n",
        "\n",
        "If you have a local dataset,  try ask Gemini how to upload your local file to the current workspace."
      ],
      "metadata": {
        "id": "AoqeWWrlIxb7"
      }
    },
    {
      "cell_type": "code",
      "source": [
        "import numpy as np\n",
        "import pandas as pd\n",
        "\n",
        "# If necessary change the path below so that it points to your file.\n",
        "df = pd.read_csv(\"churn_data.csv\")"
      ],
      "metadata": {
        "id": "izTmGqChDJLI"
      },
      "execution_count": null,
      "outputs": []
    },
    {
      "cell_type": "code",
      "source": [
        "# Prompt: upload a local file from myu computer\n"
      ],
      "metadata": {
        "id": "KLktVxz7Fmq7"
      },
      "execution_count": null,
      "outputs": []
    },
    {
      "cell_type": "markdown",
      "source": [
        "Let's preview the dataset"
      ],
      "metadata": {
        "id": "2bpAy6KPHnEW"
      }
    },
    {
      "cell_type": "code",
      "source": [
        "# prompt: preview the dataset"
      ],
      "metadata": {
        "id": "1Z5YG9aBHhnM"
      },
      "execution_count": null,
      "outputs": []
    },
    {
      "cell_type": "markdown",
      "source": [
        "Some pre-processing we need to do..some of the features are categorical, so we need to convert them into dummies.  We can do this using the function `get_dummies` from `Pandas`."
      ],
      "metadata": {
        "id": "BAuaR-PLFnJP"
      }
    },
    {
      "cell_type": "code",
      "source": [
        "df = pd.get_dummies(df, drop_first=True)"
      ],
      "metadata": {
        "id": "vJvNSbjAFpEJ"
      },
      "execution_count": null,
      "outputs": []
    },
    {
      "cell_type": "markdown",
      "source": [
        "Let's take a look at the original dataset and the new one with dummies."
      ],
      "metadata": {
        "id": "4Rs5SF7KHMZE"
      }
    },
    {
      "cell_type": "code",
      "source": [
        "# prompt: preview the dummies\n"
      ],
      "metadata": {
        "id": "m6DJWyagHL3T"
      },
      "execution_count": null,
      "outputs": []
    },
    {
      "cell_type": "markdown",
      "source": [
        "### 1b. Initial Exlporation"
      ],
      "metadata": {
        "id": "v7WUVjv9I4vy"
      }
    },
    {
      "cell_type": "markdown",
      "source": [
        "I'd like to take a look at the target variable first"
      ],
      "metadata": {
        "id": "WXt0D_p8Hvx_"
      }
    },
    {
      "cell_type": "code",
      "source": [
        "# Prompt: show me the distribution of the target variable, Churn_Yes\n"
      ],
      "metadata": {
        "id": "XrkPJz3XH0JD"
      },
      "execution_count": null,
      "outputs": []
    },
    {
      "cell_type": "markdown",
      "source": [
        "What're the predictive features?"
      ],
      "metadata": {
        "id": "as2M-Q1gICZE"
      }
    },
    {
      "cell_type": "code",
      "source": [
        "# Prompt: My target variable is Churn_Yes.Show me the correlations between the features and the target variable with a heatmap.\n"
      ],
      "metadata": {
        "id": "JumEOlZCIFYc"
      },
      "execution_count": null,
      "outputs": []
    },
    {
      "cell_type": "markdown",
      "source": [
        "## Step 2. Build A Logistic Regression Model"
      ],
      "metadata": {
        "id": "g70SeJejI8QD"
      }
    },
    {
      "cell_type": "markdown",
      "source": [
        "### 2a. Split the data into 80% training data and 20% test data.\n",
        "\n",
        "Test data, is the same thing as validation set, holdout set. Basically it's a small portion of data that the model isn't trained on so we could use this small portion to evaluate out-of-sample performances.\n",
        "\n"
      ],
      "metadata": {
        "id": "JAN30EwqCXz8"
      }
    },
    {
      "cell_type": "code",
      "source": [
        "#prompt: split df into training and testing set.\n"
      ],
      "metadata": {
        "id": "cNggDF70Jd3m"
      },
      "execution_count": null,
      "outputs": []
    },
    {
      "cell_type": "markdown",
      "source": [
        "OK. Let's read the generated code. So we do need to specify what portion of data we'd like to put into the testing set. Automatically Gemini chose what proportion?"
      ],
      "metadata": {
        "id": "XtZCktCpJtPV"
      }
    },
    {
      "cell_type": "markdown",
      "source": [
        "### 2b. Define the model(s)"
      ],
      "metadata": {
        "id": "KL2519h7KAgN"
      }
    },
    {
      "cell_type": "markdown",
      "source": [
        "Let's try logistic regression first."
      ],
      "metadata": {
        "id": "iMMvIlZtPpoc"
      }
    },
    {
      "cell_type": "code",
      "source": [
        "# prompt: define a logistic regression model\n"
      ],
      "metadata": {
        "id": "sq30tZdrPsr8"
      },
      "execution_count": null,
      "outputs": []
    },
    {
      "cell_type": "markdown",
      "source": [
        "Defining the model also need us to tell it what's the target variable and what're the features."
      ],
      "metadata": {
        "id": "ds8wsvGVP-PA"
      }
    },
    {
      "cell_type": "code",
      "source": [
        "# prompt: Define the target variable as Churn_Yes, and the rest of the variables to be features\n"
      ],
      "metadata": {
        "id": "nEPO8sVPJ_Ss"
      },
      "execution_count": null,
      "outputs": []
    },
    {
      "cell_type": "markdown",
      "source": [
        "### 2c. Train the model\n"
      ],
      "metadata": {
        "id": "H0OhOU9xQa44"
      }
    },
    {
      "cell_type": "code",
      "source": [
        "# prompt: fit the defined logistic regression to the dataset\n"
      ],
      "metadata": {
        "id": "CUK4MLaXQgSz"
      },
      "execution_count": null,
      "outputs": []
    },
    {
      "cell_type": "markdown",
      "source": [
        "Is it suggesting some changes to the 'hyper parameters'?"
      ],
      "metadata": {
        "id": "VBde_ucUQvGh"
      }
    },
    {
      "cell_type": "code",
      "source": [],
      "metadata": {
        "id": "4gX9K5zuQ3eY"
      },
      "execution_count": null,
      "outputs": []
    },
    {
      "cell_type": "markdown",
      "source": [
        "### 2d. Evaluate the model performances"
      ],
      "metadata": {
        "id": "ArRoj7paQ-0v"
      }
    },
    {
      "cell_type": "markdown",
      "source": [],
      "metadata": {
        "id": "deLxU5hIRW1p"
      }
    },
    {
      "cell_type": "code",
      "source": [
        "# prompt: Make predictions on the training and testing set"
      ],
      "metadata": {
        "id": "5aJYm-idXI4_"
      },
      "execution_count": null,
      "outputs": []
    },
    {
      "cell_type": "code",
      "source": [
        "# prompt: compare the cross-entropy on training and testing set to see if there's overfitting\n"
      ],
      "metadata": {
        "id": "TNFqKNEtSmIM"
      },
      "execution_count": null,
      "outputs": []
    },
    {
      "cell_type": "markdown",
      "source": [
        "Another evaluation tool very helpful for classification tasks is the confusion matrix."
      ],
      "metadata": {
        "id": "9160JXddS-lY"
      }
    },
    {
      "cell_type": "markdown",
      "source": [
        "prompt: What's confusion matrix?"
      ],
      "metadata": {
        "id": "uTLEmfeeXS2S"
      }
    },
    {
      "cell_type": "code",
      "source": [
        "# give me the confusion matrix for the trainng and testing set predictions\n"
      ],
      "metadata": {
        "id": "f_amVoRxSCt9"
      },
      "execution_count": null,
      "outputs": []
    },
    {
      "cell_type": "markdown",
      "source": [
        "There're measures that summarize the confusion matrix.\n",
        "\n",
        "prompt: What is AUC? What is ROC?"
      ],
      "metadata": {
        "id": "14aGLn2KVnQd"
      }
    },
    {
      "cell_type": "code",
      "source": [
        "# prompt: Can you plot the ROC curve for the logistic regression traine above?\n"
      ],
      "metadata": {
        "id": "jwvEfweRVxTy"
      },
      "execution_count": null,
      "outputs": []
    },
    {
      "cell_type": "markdown",
      "source": [
        "### 2e. Changing the threshold\n",
        "\n",
        "Remember that the logistic regression is trained to output probabilities from 0 to 1. When making predictions of the class, we need to choose a threshold.\n",
        "\n",
        "When we run this line of code to make predictions\n",
        "`y_train_pred = log_reg_model.predict(X_train)`,\n",
        "the package chose a default threshold. What is it? **bold text**"
      ],
      "metadata": {
        "id": "Pux6esrZabJO"
      }
    },
    {
      "cell_type": "markdown",
      "source": [
        "Prompt: With the logistic regression, I didn't choose the cutoff. is there a cutoff chosen?"
      ],
      "metadata": {
        "id": "lNbh_B4PadES"
      }
    },
    {
      "cell_type": "markdown",
      "source": [
        "But what if from our business understanding, we need to change the cutoff?"
      ],
      "metadata": {
        "id": "NVAFK8_kahJX"
      }
    },
    {
      "cell_type": "code",
      "source": [
        "# Prompt: I need to change the cutoff when making predictions."
      ],
      "metadata": {
        "id": "__j0nsqSaoVN"
      },
      "execution_count": null,
      "outputs": []
    },
    {
      "cell_type": "markdown",
      "source": [
        "## Step 3: Find a best model\n",
        "\n",
        "Now let's build multiple models and compare the performances to find the best model."
      ],
      "metadata": {
        "id": "tFAG7ddvTx38"
      }
    },
    {
      "cell_type": "markdown",
      "source": [
        "prompt: Aside from classification, are there other models suitable?\n",
        "\n",
        "prompt: Can you put these into a text cell?"
      ],
      "metadata": {
        "id": "WN_Nzi0BUBNC"
      }
    },
    {
      "cell_type": "markdown",
      "source": [],
      "metadata": {
        "id": "4Gw-tGR3Xgzq"
      }
    },
    {
      "cell_type": "markdown",
      "source": [
        "So pick another two, train them and find the best performing one."
      ],
      "metadata": {
        "id": "33bcIkJEXihk"
      }
    },
    {
      "cell_type": "code",
      "source": [
        "# prompt: Can you build s random forest and a KNN too. Compare the peformances of the loigistic regession and these two models on the validation set to choose a best one?\n"
      ],
      "metadata": {
        "id": "fhBrQlY7T6Cb"
      },
      "execution_count": null,
      "outputs": []
    },
    {
      "cell_type": "code",
      "source": [],
      "metadata": {
        "id": "G7__LbXOCNxF"
      },
      "execution_count": null,
      "outputs": []
    },
    {
      "cell_type": "markdown",
      "source": [
        "Any additional things you'd like to do? ROC curves for all the models?"
      ],
      "metadata": {
        "id": "nHSU-Xw8Xubn"
      }
    },
    {
      "cell_type": "code",
      "source": [],
      "metadata": {
        "id": "Ci7nJ4CRX10n"
      },
      "execution_count": null,
      "outputs": []
    }
  ]
}