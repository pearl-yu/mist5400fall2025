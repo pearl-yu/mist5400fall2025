{
  "cells": [
    {
      "cell_type": "markdown",
      "source": [
        "To open notebook in Colab please click below:\n",
        "\n",
        "<a href=\"https://colab.research.google.com/github/pearl-yu/mist5400fall2025/blob/main/0_Basics/Jupyter_Notebooks_Colab.ipynb\" target=\"_parent\"> <img src=\"https://colab.research.google.com/assets/colab-badge.svg\" alt=\"Open In Colab\" /> </a>"
      ],
      "metadata": {
        "id": "EUFgq8r1jmK_"
      }
    },
    {
      "cell_type": "markdown",
      "metadata": {
        "id": "5VJ70HNoR9Ab"
      },
      "source": [
        "# Intro to Python / Jupyter Notebooks / Google Colab\n",
        "\n",
        "\n",
        "Fall 2025 - Instructor: Pearl (Peiyan) Yu\n",
        "\n",
        "***"
      ]
    },
    {
      "cell_type": "markdown",
      "metadata": {
        "id": "FwWj_VF0R9Ab"
      },
      "source": [
        "## Python\n",
        "\n",
        "Python is a programming language that has been growing in popularity in recent years. There are many reasons for this, but it mostly comes down to Python being easy to learn and use as well as the fact that Python has a very active community that continually develops and improves amazing extensions to Python!\n",
        "\n",
        "Python has become one of the most frequently used languages in the world of data science due to the ability to almost instantly apply it to a large number of data science problems. When asking stakeholders in companies in different industries and of various sizes what language they would like their data scientists to know when coming in, Python is a consistently popular choice. If you are going to learn one language (something everyone should do!), Python would be a great choice.\n",
        "\n",
        "From this language, other languages, features and packages have been created: Jupyter, Pandas, Numpy, Matplotlib, and others that we will be using during this course. For more info please visit https://www.python.org/doc/\n"
      ]
    },
    {
      "cell_type": "markdown",
      "metadata": {
        "collapsed": true,
        "id": "us6FTparR9Ac"
      },
      "source": [
        "## Jupyter Notebooks Overview\n",
        "\n",
        "The main way data scientists use Python is through _Jupyter Notebooks_ (formerly called iPython notebooks).  It is an interactive computational environment, in which you can combine code execution, rich text, mathematics, plots and rich media.  Notebooks are great because the code lives side by side with commentary, descriptions, and visualizations, and allows the data scientist to create a document for others to walk through, and execute, the code.\n",
        "\n",
        "The notebook form is a great way to code.  It separates code into *cells* where each cell can contain a functional chunk of code, and can be executed separately.  Notebook cells allow you to create and share documents that contain live code, equations, visualizations.  \n",
        "\n",
        "\n",
        "The notebook form is a great way to code.  It separates code into *cells* where each cell can contain a functional chunk of code, and can be executed separately.  Notebook cells allow you to create and share documents that contain live code, equations, visualizations.  Documentation lives side by side with the code in text cells using `markdown`, a special syntax to make communication easy.  \n",
        "\n",
        "For more details on the Jupyter Notebook, please see the Jupyter website http://jupyter.org/\n"
      ]
    },
    {
      "cell_type": "markdown",
      "metadata": {
        "id": "Xpjz6nrpinIk"
      },
      "source": [
        "## Google Colab and IDEs\n",
        "Programmers create and interact with Python notebooks through an _Interactive Development Environment_ or **IDE**.     In this class, we will be using **Google Colab**, a cloud-based IDE that has many good features.  Google offers the environments, the storage, and the computing resources. You don't have to install anything. It allows anybody to write and execute arbitrary python code through the browser. You can also share your notebooks easily - with fellow students or with me - via Google Drive."
      ]
    },
    {
      "cell_type": "markdown",
      "metadata": {
        "id": "12vDgZf6inIk"
      },
      "source": [
        "### Getting started\n",
        "\n",
        "\n",
        "**IMPORTANT** : Save every class notebook and module IN YOUR OWN GOOGLE DRIVE as soon as you open it.  That way you have your own copy to work on, edit and share.\n",
        "\n",
        "#### 1. Click \"File\" in the top left corner and \"Save to Google Drive\"\n",
        "\n",
        "![alt text](https://raw.githubusercontent.com/pearl-yu/foster_2022fall/2022-master/Module0_Basics/images/savetodrive.png)\n",
        "\n",
        "#### 2. The notebook will open in a new tab with a google logo (you can now remove the \"Copy of\" from the name if you'd like)\n",
        "\n",
        "![alt text](https://raw.githubusercontent.com/pearl-yu/foster_2022fall/2022-master/Module0_Basics/images/bookindrive.png)\n",
        "\n",
        "#### 3. That's it, now it's in your drive\n",
        "\n",
        "![alt text](https://raw.githubusercontent.com/pearl-yu/foster_2022fall/2022-master/Module0_Basics/images/bookindrive3.png)\n",
        "![alt text](https://raw.githubusercontent.com/pearl-yu/foster_2022fall/2022-master/Module0_Basics/images/bookindrive2.png)\n",
        "\n",
        "You can then access and edit the saved notebook from your Google Drive at anytime."
      ]
    },
    {
      "cell_type": "markdown",
      "metadata": {
        "id": "Qg7M_G3iinIk"
      },
      "source": [
        "### Creating new notebooks\n",
        "\n",
        "Now as Google Colab can host jupyter notebooks, you can create notebooks from Google Colab without configuring a local computing environment.\n",
        "\n",
        "Steps to open a new notebook (you can open as many as you want!):\n",
        "\n",
        "1. Go to the Google Drive folder where you want to store the notebook.\n",
        "\n",
        "   ![NewNotebook](https://raw.githubusercontent.com/pearl-yu/foster_2022fall/2022-master/Module0_Basics/images/newnotebookcolab.png?raw=1)\n",
        "\n",
        "\n",
        "2. Viola, a new notebook is created. You can then change the notebook name. Move it to other locations in your drive, or download it to your local computer.\n",
        "\n",
        "   ![NewNotebook](https://raw.githubusercontent.com/pearl-yu/foster_2022fall/2022-master/Module0_Basics/images/newnotebookcolab2.png?raw=1)"
      ]
    },
    {
      "cell_type": "markdown",
      "metadata": {
        "id": "MbjzcijminIk"
      },
      "source": [
        "### Other features\n",
        "Colaboratory is integrated with Google Drive. It allows you to share, comment, and collaborate on the same document with multiple people:\n",
        "\n",
        "* The **SHARE** button (top-right of the toolbar) allows you to share the notebook and control permissions set on it.\n",
        "\n",
        "* **File->Revision history** shows the notebook's revision history - in case you accidentally delete something or want to revert to a previous working version."
      ]
    },
    {
      "cell_type": "markdown",
      "metadata": {
        "id": "sUuUupEMinIk"
      },
      "source": [
        "### Other IDEs\n",
        "\n",
        "Some of you with previous coding experience might be familiar with other IDEs, that run locally on your laptop or other environment.  There are many common IDEs available to code, including [PyCharm](https://www.jetbrains.com/pycharm/),  [Visual Studio Code](https://code.visualstudio.com/) _Jupyter Notebook_, _Anaconda_, and _Spyder_.  These have mostly the same functionality but have different looks and feels.    The main difference is these run _locally_, on your machine, and not in the cloud, so you are responsible for the compute and storage.   If you have a large dataset, or require a lot of compute, running locally **might** be faster and more convenient in some cases than running on the cloud.    \n",
        "\n",
        "You're are welcome to use any IDE they like, as long as they can output HWs and project code as a .ipynb file. I recommend VSCode because literaally every company that does legit data science or AI use it. And Github Copilot is free for students, which is a GenAI tool integrated into VS Code."
      ]
    },
    {
      "cell_type": "markdown",
      "metadata": {
        "id": "opxnKw5finIk"
      },
      "source": [
        "## Navigating Jupyter Notebooks\n",
        "\n",
        "Jupyter notebooks are made up of **cells.**  There are two basics types of entries in a notebook: **text cells** for documentation, description and comments, and **code cells** that contain Python code.  Each time you add a cell (hover over the bottom of a cell in Colab) you can choose to add a text or code cell.\n",
        "\n",
        "- You can edit a cell by double clicking on it.\n",
        "- You can get it back to the display mode (run a cell) by pressing the \"Play\" (▶) button.\n",
        "- You can also stop it with the \"square\" ◼︎ ."
      ]
    },
    {
      "cell_type": "markdown",
      "metadata": {
        "id": "LnlNqCu5inIk"
      },
      "source": []
    },
    {
      "cell_type": "markdown",
      "metadata": {
        "id": "RPHx0M59inIk"
      },
      "source": [
        "### Text cells and markdown\n",
        "\n",
        "This is a text cell!!\n",
        "\n",
        "You create a text cell by clicking the `(+Text)` button at the end of any existing cell or using the menu item `Insert=>Text Cell`\n",
        "\n",
        "\n",
        "Now, you can write and do text formatting:\n",
        "\n",
        "- Hashtags (number sign \\#) are useful for titles.  Start a cell with hashtag text and Colab will  create a table of contents on the left menu bar. Single hashtags are main sections, and double, triple, or quad hashtags (####) are sub-sections.\n",
        "- Surround words with \\*asterisks\\* or \\_underscores\\_ to italicize things: _underscore example_, *asterisk_example*.\n",
        "- Backslash (\\\\) to get those special characters not to act special (see code in the preceeding item).\n",
        "- Double **asterisks** (\\**)  make things bold.\n",
        "- Square Brackets [ ] are for links and images.\n",
        "- Links can be created using square brackets including a label with the URL in parenthesis, such as [Link text](URL Here).    Example: [My Home Page](http://chrisvolinsky.com)\n",
        "- You can create bullet lists by starting a line with a dash \\- or an asterisk \\* (or by using the formatting tools at the top of the text cell).  (Just like this list!)\n",
        "- You can format code in a text cell using backticks \\` : such as `this is a line of code`\n",
        "- Type a colon \\: to get a menu of emojis ❗😀 🌮 🧲 👸 💻\n",
        "- Also, HTML code is allowed. Some resources can be found in [HTML w3schools](http://www.w3schools.com/html/html_examples.asp) <p style=\"color:red;\">This is text formatted with HTML.</p>\n",
        "\n",
        "- And you can write math with $\\LaTeX$  (LaTeX is a typesetting language for the production of scientific documents https://www.latex-project.org/): You use LaTeX in Jupyter notebook markdown cells by wrapping the latex code in dollar signs, $x = \\frac{-b \\pm \\sqrt{b^2 - 4ac}}{2a}$. If you don't know how to write a symbol, you can go to [Detexify](http://detexify.kirelabs.org/classify.html).\n",
        "\n",
        "\n",
        "Some great Markdown references:\n",
        "- [Markdown Cheatsheet](https://www.markdownguide.org/cheat-sheet/)\n",
        "- [Guide to Markdown](/notebooks/markdown_guide.ipynb)"
      ]
    },
    {
      "cell_type": "markdown",
      "metadata": {
        "id": "utiFKYtPinIl"
      },
      "source": [
        "### Sessions\n",
        "\n",
        "When you run code, the code is actually executed in a _session_. You can do bad things in a session: you can make it stuck in an endless loop, crash it, corrupt it, etc. And you probably will do all of these things :).\n",
        "\n",
        "So sometimes you might have to interrupt your session or restart it. Use the \"Runtime\" menu to interrupt or restart the session, re-run your notebook, etc.\n",
        "\n",
        "Also, before submitting a homework or a project, make sure to **Restart and Run All**. This will create a clean run of your project, without any side effects that you might encounter during development. We want you to submit the homeworks with output, and by doing that you will make sure that we actually can also execute your code properly."
      ]
    },
    {
      "cell_type": "markdown",
      "metadata": {
        "id": "0dJA1BErinIl"
      },
      "source": [
        "### Code Cells\n",
        "In a code cell, we can type any Python commands, and run them by clicking the **Play icon**  ▶ or use the keyboard shortcut \"Shift+Enter\".\n",
        "\n",
        "Importantly, some of the results of running a cell are \"remembered\" for subsequent cells, as long as the session continues running.  If you change a variable in an earlier cell, it will be remembered for the cell you are running.   \n",
        "\n",
        "For example, in the following cell, it will remember that the **_VARIABLE_** called \"x\" is  the sum of two given numbers.  Once you run that cell, variable \"x\" will be available for use in cells below. Please select it and press the ▶ button to run it.  Then select the following cell and run it."
      ]
    },
    {
      "cell_type": "code",
      "execution_count": null,
      "metadata": {
        "id": "p8BvktOkR9Af"
      },
      "outputs": [],
      "source": [
        "x = 5 + 5\n",
        "print (\"The value of the 'x' variable is \" + str(x) + \".\")"
      ]
    },
    {
      "cell_type": "code",
      "execution_count": null,
      "metadata": {
        "id": "GFd6vC28R9Ag"
      },
      "outputs": [],
      "source": [
        "print(\"The value of the 'x' variable is *still* \" + str(x) + \" down here.\")"
      ]
    },
    {
      "cell_type": "markdown",
      "metadata": {
        "id": "a7YDlrocR9Ag"
      },
      "source": [
        "Python notebooks flow from **top to bottom**. This means that if a cell relies on a variable or function that was created earlier in the notebook, you must run the prior cell to make that information available in future cells  (_we cannot just call \"x\" in other cell if we don't run this one before_)!\n",
        "\n",
        "Sometimes you might need to re-run the entire notebook to re-initiate things.   The Colab \"Runtime\" menu allows you to run the entire notebook, or run everything up to the current cell, or everything after the current cell."
      ]
    },
    {
      "cell_type": "markdown",
      "metadata": {
        "id": "5eTkS4seinIl"
      },
      "source": [
        "### Saving files and scripts\n",
        "\n",
        "Python notebooks can be downloaded and saved (which **you will need to do to submit your homeworks**) as an **.ipynb file**, which is what you will need to submit for your homeworks.\n",
        "\n",
        "This is easily done from the Colab menu:\n",
        "\n",
        "`File => Download => Download .ipynb`\n",
        "\n",
        "You could also download a notebook as an html, which shows all the cells and outputs in an html file.  "
      ]
    },
    {
      "cell_type": "markdown",
      "metadata": {
        "id": "XP3fdi7SinIl"
      },
      "source": [
        "## Using GenAI\n",
        "\n",
        "Generative AI is starting to get incorporated into many different coding tools.  In Colab, you might see the prompt in a new Code Cell that says:\n",
        "\n",
        " `[ ] Start coding or generate with AI`\n",
        "\n",
        " Clicking on the word <u> generate </u> will open a window where you can ask the AI to generate code for a particular task.  Try it!  Add a code cell below and give it some commands like:\n",
        "\n",
        " - *Draw 100 numbers from a standard normal distribution and plot a histogram*\n",
        "\n",
        "We'll talk more about it (and Gemini in Colab) in the Code_with_AI notebook."
      ]
    },
    {
      "cell_type": "markdown",
      "metadata": {
        "id": "wF-Z4gVhinIl"
      },
      "source": [
        "***[The End]***"
      ]
    }
  ],
  "metadata": {
    "colab": {
      "name": "Jupyter_Notebooks_Colab.ipynb",
      "provenance": []
    },
    "kernelspec": {
      "display_name": "Python 3",
      "language": "python",
      "name": "python3"
    },
    "language_info": {
      "codemirror_mode": {
        "name": "ipython",
        "version": 3
      },
      "file_extension": ".py",
      "mimetype": "text/x-python",
      "name": "python",
      "nbconvert_exporter": "python",
      "pygments_lexer": "ipython3",
      "version": "3.8.5"
    }
  },
  "nbformat": 4,
  "nbformat_minor": 0
}