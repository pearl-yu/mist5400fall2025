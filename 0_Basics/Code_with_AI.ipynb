{
 "cells": [
  {
   "cell_type": "markdown",
   "id": "5be115e5",
   "metadata": {},
   "source": [
    "To open notebook in Colab please click below:\n",
    "\n",
    "<a href=\"https://colab.research.google.com/github/pearl-yu/mist5400fall2025/blob/main/0_Basics/Code_with_AI.ipynb\" target=\"_parent\"> <img src=\"https://colab.research.google.com/assets/colab-badge.svg\" alt=\"Open In Colab\" /> </a>"
   ]
  },
  {
   "cell_type": "markdown",
   "id": "af18212f",
   "metadata": {},
   "source": [
    "# Code with AI\n",
    "\n",
    "\n",
    "Fall 2025 - Instructor: Pearl (Peiyan) Yu\n",
    "\n",
    "***"
   ]
  },
  {
   "cell_type": "markdown",
   "id": "d41fad20",
   "metadata": {},
   "source": [
    "We will start by analyzing a [dataset of college enrollments](https://www.kaggle.com/datasets/yashgpt/us-college-data) from Kaggle.\n",
    "\n",
    "We will briefly show how GenAI works within Colab"
   ]
  },
  {
   "cell_type": "markdown",
   "id": "a04c7eca",
   "metadata": {},
   "source": [
    "\n",
    "It contains a number of variables for 777 different universities and colleges in the US. The variables are:\n",
    "\n",
    "- Private : Public/private indicator\n",
    "- Apps : Number of applications received\n",
    "- Accept : Number of applicants accepted\n",
    "- Enroll : Number of new students enrolled\n",
    "- Top10perc : New students from top 10 % of high school class\n",
    "- Top25perc : New students from top 25 % of high school class\n",
    "- F. Undergrad : Number of full-time undergraduates\n",
    "- P.Undergrad : Number of part-time undergraduates\n",
    "- Outstate : Out-of-state tuition\n",
    "- Room.Board : Room and board costs\n",
    "- Books : Estimated book costs\n",
    "- Personal : Estimated personal spending\n",
    "- PhD : Percent of faculty with Ph.D.s\n",
    "- Terminal : Percent of faculty with terminal degree\n",
    "- S.F.Ratio : Student/faculty ratio\n",
    "- perc.alumni : Percent of alumni who donate\n",
    "- Expend : Instructional expenditure per student\n",
    "- Grad.Rate : Graduation rate\n"
   ]
  },
  {
   "cell_type": "code",
   "execution_count": null,
   "id": "0d29f895",
   "metadata": {},
   "outputs": [],
   "source": [
    "#start by importing packages\n",
    "\n",
    "import numpy as np # arithmetic and algebra\n",
    "import pandas as pd  # data manipulation\n",
    "import sklearn as sk # machine learning and predictive models\n",
    "import matplotlib.pyplot as plt # data plotting\n",
    "import seaborn as sns # advanced visualization"
   ]
  },
  {
   "cell_type": "markdown",
   "id": "af75ae03",
   "metadata": {},
   "source": [
    "Gemini: It's integrated into Colab. \n",
    "\n",
    "Can type **at the hashtag** in a code cell.  Or, use the **generate** function.\n",
    "\n",
    "Github Copilot (free for students) is integrated into VS Code, so that's another option if you want an AI model integrated into your IDE."
   ]
  },
  {
   "cell_type": "markdown",
   "id": "ff63af7e",
   "metadata": {},
   "source": [
    "## Explain code\n",
    "\n",
    "We could, ask your GenAI model to explain the code / add comments."
   ]
  },
  {
   "cell_type": "code",
   "execution_count": null,
   "id": "8d219aaf",
   "metadata": {},
   "outputs": [],
   "source": [
    "# prompt: Can you add comments to explain what the packages are for?\n",
    "# start by importing packages\n",
    "\n",
    "import numpy as np \n",
    "import pandas as pd  \n",
    "import sklearn as sk \n",
    "import matplotlib.pyplot as plt \n",
    "import seaborn as sns "
   ]
  },
  {
   "cell_type": "markdown",
   "id": "03e34ed1",
   "metadata": {},
   "source": [
    "## Generate code for easy things\n",
    "\n",
    "This is recommended for easy things that you know how to do, but just want to save time."
   ]
  },
  {
   "cell_type": "code",
   "execution_count": null,
   "id": "416dacca",
   "metadata": {},
   "outputs": [],
   "source": [
    "# Download the dataset directly from Kaggle API\n",
    "\n",
    "import kagglehub\n",
    "\n",
    "path = kagglehub.dataset_download(\"yashgpt/us-college-data\")\n",
    "\n",
    "print(\"Path to dataset files:\", path)"
   ]
  },
  {
   "cell_type": "code",
   "execution_count": null,
   "id": "8dc8e2f2",
   "metadata": {},
   "outputs": [],
   "source": [
    "# Prompt: import the downloaded dataset"
   ]
  },
  {
   "cell_type": "markdown",
   "id": "a3c72549",
   "metadata": {},
   "source": [
    "Sometimes, it gets things wrong. "
   ]
  },
  {
   "cell_type": "code",
   "execution_count": null,
   "id": "56619d00",
   "metadata": {},
   "outputs": [],
   "source": [
    "# The path to the downloaded dataset is available in the 'path' variable from the previous cell.\n",
    "\n",
    "college = pd.read_csv(path +'/College_Data.csv') # Trying to read with full path\n",
    "\n",
    "\n",
    "# Display the first few rows of the dataframe to verify\n",
    "display(college.head())"
   ]
  },
  {
   "cell_type": "markdown",
   "id": "95ede286",
   "metadata": {},
   "source": [
    "## Debug\n",
    "\n",
    "We can also ask it to debug code, find errors and correct them. "
   ]
  },
  {
   "cell_type": "code",
   "execution_count": null,
   "id": "6b4c76ea",
   "metadata": {},
   "outputs": [],
   "source": [
    "# Prompt: debug? \n",
    "collage.descibe()"
   ]
  },
  {
   "cell_type": "markdown",
   "id": "c782fd40",
   "metadata": {},
   "source": [
    "## Generate code for more stuff"
   ]
  },
  {
   "cell_type": "code",
   "execution_count": null,
   "id": "e479d3e2",
   "metadata": {},
   "outputs": [],
   "source": [
    "# change the column name from Unamed:0 to SchoolName"
   ]
  },
  {
   "cell_type": "code",
   "execution_count": null,
   "id": "756c56c2",
   "metadata": {},
   "outputs": [],
   "source": [
    "# plot a histogram of Top10Perc"
   ]
  },
  {
   "cell_type": "code",
   "execution_count": null,
   "id": "5f8faddd",
   "metadata": {},
   "outputs": [],
   "source": [
    "# find the top 10 schools with the best Graduation Rates"
   ]
  },
  {
   "cell_type": "markdown",
   "id": "eea82410",
   "metadata": {},
   "source": [
    "## Exercise\n",
    "Take a look at the data fields, and think of one more thing you'd like to know about college enrollments. Ask Gemini to give you the plots. Are the plots what you expected? Try to ask Gemini to refine it if you don't like parts of it. \n",
    "\n",
    "After you completed this, **download** the notebook and **submit in eLC assignment --> In-class exercise 1.**"
   ]
  },
  {
   "cell_type": "code",
   "execution_count": null,
   "id": "21d61d14",
   "metadata": {},
   "outputs": [],
   "source": []
  },
  {
   "cell_type": "markdown",
   "id": "7dc46833",
   "metadata": {},
   "source": []
  }
 ],
 "metadata": {
  "language_info": {
   "name": "python"
  }
 },
 "nbformat": 4,
 "nbformat_minor": 5
}
