{
  "cells": [
    {
      "cell_type": "markdown",
      "metadata": {
        "id": "FzWGAK6sK43D"
      },
      "source": [
        "To open notebook in Colab please click below:\n",
        "\n",
        "<a href=\"https://colab.research.google.com/github/pearl-yu/mist5400fall2025/blob/main/0_Basics/Python_Basics.ipynb\" target=\"_parent\"> <img src=\"https://colab.research.google.com/assets/colab-badge.svg\" alt=\"Open In Colab\" /> </a>"
      ]
    },
    {
      "cell_type": "markdown",
      "metadata": {
        "id": "yn8zBmCpTZ2Q"
      },
      "source": [
        "# Python basics\n",
        "\n",
        "\n",
        "Fall 2025 - Instructor: Pearl (Peiyan) Yu\n",
        "\n",
        "***"
      ]
    },
    {
      "cell_type": "markdown",
      "metadata": {
        "id": "TD4ruMSuTZ2R"
      },
      "source": [
        "This notebook shows examples of Python code, including built-in functions, packages and programming structures useful for Data Science and Business Analytics. This should be a quick tour so that you could understand python code (with some AI help), rather than teaching python formally. If you plan to code python intensively as an analyst, consider the intro to Python course. At the bottom there are some pointers to a few resources."
      ]
    },
    {
      "cell_type": "markdown",
      "metadata": {
        "id": "e3AC2NglTZ2R"
      },
      "source": [
        "## Variables, operations and data types\n",
        "Variables are used to store data.\n",
        "The data can be of a variety of types. Here're three types of data for example:  \n",
        "\n",
        "-- **strings** for letter, words, and phrases\n",
        "\n",
        "-- **int** for integers\n",
        "\n",
        "-- **float** for real numbers stored as an approximation of an infinite decimal\n",
        "\n",
        "-- **boolean** logical TRUE or FALSE\n",
        "\n",
        "The Python character for **variable assignment** is the equal sign (=). Let's create three variables, one of each type, with 3 different names:"
      ]
    },
    {
      "cell_type": "code",
      "execution_count": null,
      "metadata": {
        "collapsed": true,
        "id": "pdaqW6XdTZ2S"
      },
      "outputs": [],
      "source": [
        "some_integer = 5\n",
        "some_float = 7.12\n",
        "some_string = \"Student\""
      ]
    },
    {
      "cell_type": "markdown",
      "metadata": {
        "id": "HNbgNw0zTZ2T"
      },
      "source": [
        "We can **print** out these variables. Remember we need to run the previous cell first!"
      ]
    },
    {
      "cell_type": "code",
      "execution_count": null,
      "metadata": {
        "id": "qobZB_3DTZ2T"
      },
      "outputs": [],
      "source": [
        "print (some_integer)\n",
        "print (some_float)\n",
        "print (some_string)"
      ]
    },
    {
      "cell_type": "markdown",
      "metadata": {
        "id": "Gsj_DDbSTZ2U"
      },
      "source": [
        "What if I want to print some text and then some numbers? One easy way to do this is to realize that printing will always **want** string data. \n",
        "\n",
        "If you have data that is not a string (like an integer or float), you can **convert** it to a string: "
      ]
    },
    {
      "cell_type": "code",
      "execution_count": null,
      "metadata": {
        "id": "5UZG8kO0TZ2U"
      },
      "outputs": [],
      "source": [
        "print (\"My integer is \" + str(some_integer) + \".\")\n",
        "print (\"My float converted into integer is \" + str( int(some_float) ) + \".\")"
      ]
    },
    {
      "cell_type": "markdown",
      "metadata": {
        "id": "mpWyMNtDTZ2U"
      },
      "source": [
        "What else can we do with our variables? We can do basic math: **operations**.\n",
        "The operations (e.g. \"+\") will  behave differently depending on the type:"
      ]
    },
    {
      "cell_type": "code",
      "execution_count": null,
      "metadata": {},
      "outputs": [],
      "source": [
        "# plus sign (+) will add two integers\n",
        "int1 = 6\n",
        "int2 = 4\n",
        "print (\"sum of ints = \",int1 + int2)\n",
        "\n",
        "# plus sign (+) will concatenate two strings\n",
        "str1= 'Taylor'\n",
        "str2 = 'Swift'\n",
        "print (\"sum of strings =\",str1 + str2)"
      ]
    },
    {
      "cell_type": "code",
      "execution_count": null,
      "metadata": {
        "id": "rpT93fEBTZ2V"
      },
      "outputs": [],
      "source": [
        "print (\"sum \" + str( some_integer + some_float ))\n",
        "print (\"multiplication \" + str ( some_integer * some_float ))\n",
        "print (\"quotient \" + str( some_integer / some_float ))\n",
        "print (\"power \" + str( 10**some_integer ))"
      ]
    },
    {
      "cell_type": "markdown",
      "metadata": {
        "id": "fCSLO1bRTZ2V"
      },
      "source": [
        "We can also store this as a new variable and print it:"
      ]
    },
    {
      "cell_type": "code",
      "execution_count": null,
      "metadata": {
        "id": "CyJchyFzTZ2V"
      },
      "outputs": [],
      "source": [
        "my_sum = some_integer + some_float\n",
        "print (\"Sum variable: \" + str( my_sum ))"
      ]
    },
    {
      "cell_type": "markdown",
      "metadata": {
        "id": "gzx7KaNeTZ2V"
      },
      "source": [
        "There are also other **data structures**:\n",
        "\n",
        "**Lists** will be the most common ones we will use, they are simply collections of data and can contain different data types.  Lists are created with square brackets `[]` and can be accessed via an index:"
      ]
    },
    {
      "cell_type": "code",
      "execution_count": null,
      "metadata": {},
      "outputs": [],
      "source": [
        "beatles = [\"John\", \"Paul\", \"George\",\"Ringo\"]\n",
        "# printing the whole array\n",
        "print(beatles)\n",
        "# printing the first element of that array, at index 0\n",
        "print(beatles[0])\n",
        "# second element, at index 1\n",
        "print(beatles[1])"
      ]
    },
    {
      "cell_type": "code",
      "execution_count": null,
      "metadata": {},
      "outputs": [],
      "source": [
        "# There are lots of ways to access individual data elements from lists:\n",
        "\n",
        "print(\"list = \", beatles)\n",
        "\n",
        "# access the last element\n",
        "print(\"last element = \", beatles[-1])\n",
        "\n",
        "# access the second-to-last element\n",
        "print(\"second-to-last element =\",beatles[-2])\n",
        "\n",
        "alist = [37, 41, 43, 45, 47, 49]\n",
        "\n",
        "print(\"alist = \", alist)\n",
        "# or access \"slices\" of a list\n",
        "# a[start:end] # items start through end-1\n",
        "print(alist[2:4])\n",
        "\n",
        "# alist[start:]    # items start through the rest of the array\n",
        "print(alist[3:])\n",
        "\n",
        "# alist[:end]      # items from the beginning through end-1\n",
        "print(alist[:4])\n"
      ]
    },
    {
      "cell_type": "markdown",
      "metadata": {},
      "source": [
        "Adding things to the end of the list is \"appending\" them:"
      ]
    },
    {
      "cell_type": "code",
      "execution_count": null,
      "metadata": {},
      "outputs": [],
      "source": [
        "alist.append(500)\n",
        "print (alist)"
      ]
    },
    {
      "cell_type": "markdown",
      "metadata": {},
      "source": [
        "There are also **dictionaries** (key-value pairs)\n",
        "and **sets** (unordered list of items)"
      ]
    },
    {
      "cell_type": "code",
      "execution_count": null,
      "metadata": {
        "id": "kBLbX6H9TZ2W"
      },
      "outputs": [],
      "source": [
        "some_list = [0,0,1,2,3,3,4.5,7.6]\n",
        "some_dictionary = {'student1': 'A+', 'student2': 'B-', 'student3': 'A-'}\n",
        "some_set = set( [\"aaron\",\"juan\",\"anthony\",\"giancarlo\",29] )\n",
        "\n",
        "print (\"This is a list:  \" + str(some_list))\n",
        "print (\"This is a dictionary:  \" + str( some_dictionary ))\n",
        "print (\"This is a set:  \" + str( some_set ))"
      ]
    },
    {
      "cell_type": "markdown",
      "metadata": {
        "id": "uSpjyDFSTZ2W"
      },
      "source": []
    },
    {
      "cell_type": "code",
      "execution_count": null,
      "metadata": {
        "id": "qt18VJflTZ2X"
      },
      "outputs": [],
      "source": [
        "some_list.append(500)\n",
        "print (some_list)"
      ]
    },
    {
      "cell_type": "markdown",
      "metadata": {
        "id": "X3vVVnjvTZ2X"
      },
      "source": [
        "How can we retrieve an element (**VALUE**) of a _dictionary_ ?  Use its **\"KEY\"** !! "
      ]
    },
    {
      "cell_type": "code",
      "execution_count": null,
      "metadata": {
        "id": "DwO-222cTZ2X"
      },
      "outputs": [],
      "source": [
        "print (some_dictionary['student1'])"
      ]
    },
    {
      "cell_type": "markdown",
      "metadata": {
        "id": "16cHo-HpTZ2X"
      },
      "source": [
        "For more customizable string creation and printing, python also includes rich formatting capability that may be familiar to developers of other high-level programming language. Some examples are below. In a nutshell, one adds placeholders to the string being constructed. These placeholders always start with a `%` followed by some additional information that determines how the data will be formatted. After the string, another `%` is used, followed by the acutal data that is to be inserted in the prior placeholders. The full capabilities of python string formatting are beyond the scope of this primer, for more info, please consult the [offical documentation](https://docs.python.org/2/library/stdtypes.html#string-formatting)."
      ]
    },
    {
      "cell_type": "code",
      "execution_count": null,
      "metadata": {
        "id": "c9A1wSk6TZ2X"
      },
      "outputs": [],
      "source": [
        "print (\"generic %s formatting, equivalent to the str() functionality seen earlier\" % \"STRING\")\n",
        "print (\"an example with zero padding an integer %003d and multiple %s\" % (5, \"PLACEHOLDERS\"))\n",
        "print (\"often one wants to truncate the precision when displaying floats %.3f\" % 3.1415926536)"
      ]
    },
    {
      "cell_type": "markdown",
      "metadata": {
        "id": "h7kz5DxmTZ2Y"
      },
      "source": [
        "## Create functions"
      ]
    },
    {
      "cell_type": "markdown",
      "metadata": {
        "id": "HlS7_PHiTZ2Y"
      },
      "source": [
        "Functions are essentially blocks of code that you can reference by name. Functions allow us to execute predefined operations and to define our own operations that will be available later.  They encapsulate procedures. You should define functions for steps that you anticipate using multiple times. If you only perform a series of steps once or twice, you probably do not need to define a function. \n",
        "\n",
        "(*If you haven't thought this through before, consider the drawback of repeated code: what if later you realize that you need to fix something in that code block.  You'd have to go through and fix it everywhere.*) \n",
        "\n",
        "Functions are created using the **def** statement, following the same indented code structure as a conditional or a loop.\n",
        "\n",
        "```\n",
        "def function_name(inputs):\n",
        "    statements\n",
        "    return object(s) # optional\n",
        "```\n",
        "\n",
        "For example, consider having to calculate the area of a circle."
      ]
    },
    {
      "cell_type": "code",
      "execution_count": null,
      "metadata": {
        "collapsed": true,
        "id": "U2OBQVCQTZ2Y"
      },
      "outputs": [],
      "source": [
        "## define a function to calculate the area of a circle\n",
        "def area_of_a_circle(radius):\n",
        "    area = 3.1416 * radius ** 2\n",
        "    return area"
      ]
    },
    {
      "cell_type": "code",
      "execution_count": null,
      "metadata": {
        "id": "fuAnwpKMTZ2Y"
      },
      "outputs": [],
      "source": [
        "## call a function \n",
        "circle_area = area_of_a_circle(5)\n",
        "print (\"Area of a circle with radius 5 is: \" + str( circle_area))"
      ]
    },
    {
      "cell_type": "markdown",
      "metadata": {
        "id": "Ah487XdUTZ2Y"
      },
      "source": [
        "Can you see what is going on here? My function that I helpfully named `\"area_of_a_circle\"` takes one **argument** that we will call radius. It then uses this radius to get the area and then *returns* it. Now, whenever I want to get the area of some circle, I simply call `area_of_a_circle()` and place the radius in the middle of the parentheses."
      ]
    },
    {
      "cell_type": "markdown",
      "metadata": {
        "id": "C7V5LW-aTZ2Y"
      },
      "source": [
        "##  Loops / iterations"
      ]
    },
    {
      "cell_type": "markdown",
      "metadata": {
        "id": "zql_HgDwTZ2Y"
      },
      "source": [
        "For data analysis we do a lot of repetitive things. This doesn't mean we need to do a ton of copy and pasting, though. We can use **loops** to make this easy. Loops are used to perform a series of steps repeatedly. As a very simple example, what if we wanted to square each number from 1 to 5?"
      ]
    },
    {
      "cell_type": "code",
      "execution_count": null,
      "metadata": {
        "id": "5vumSLr1TZ2Z"
      },
      "outputs": [],
      "source": [
        "for number in [1, 2, 3, 4, 5]:\n",
        "    print (number * number)"
      ]
    },
    {
      "cell_type": "markdown",
      "metadata": {
        "id": "crJNP5faTZ2Z"
      },
      "source": [
        "Let's use the function we did before. Remember this is a function that can only be used in **this notebook** \n",
        "\n",
        "( unless we write a **\"script\"** file, but we'll see that later... ):"
      ]
    },
    {
      "cell_type": "code",
      "execution_count": null,
      "metadata": {
        "id": "n4ikFCoVTZ2Z"
      },
      "outputs": [],
      "source": [
        "for number in [1, 2, 3, 4, 5]:\n",
        "    print (\"Area of circle with radius \" + str(number) + \" is: \" + str( area_of_a_circle(number) ))"
      ]
    },
    {
      "cell_type": "markdown",
      "metadata": {},
      "source": [
        "**While** loops use the while keyword, a condition, and the loop body.  The loop continues until the condition is broken."
      ]
    },
    {
      "cell_type": "code",
      "execution_count": null,
      "metadata": {},
      "outputs": [],
      "source": [
        "a = 1\n",
        "\n",
        "# print numbers 0-100\n",
        "while a < 100:\n",
        "    # end is a parameter of print that defines how the string to be printed ends.\n",
        "    # By default, a newline \\n is appended, which we overwrite here\n",
        "    print(\"$\" + str(a), end=\", \")\n",
        "    a += 10"
      ]
    },
    {
      "cell_type": "markdown",
      "metadata": {
        "id": "cfXRCswUTZ2Z"
      },
      "source": [
        "## Conditionals and comparisons"
      ]
    },
    {
      "cell_type": "markdown",
      "metadata": {
        "id": "K0_jECy0TZ2Z"
      },
      "source": [
        "Sometimes we need to check something before deciding what to do next. \n",
        "\n",
        "**if** statements are the most common type of conditional. They allow you to execute a different set of statements under different conditions.\n",
        "\n",
        "For example,"
      ]
    },
    {
      "cell_type": "code",
      "execution_count": null,
      "metadata": {
        "collapsed": true,
        "id": "OFMyxWg5TZ2Z"
      },
      "outputs": [],
      "source": [
        "def is_best_prof(name):\n",
        "    if name == \"Pearl\":\n",
        "        return True\n",
        "    else:\n",
        "        return False"
      ]
    },
    {
      "cell_type": "code",
      "execution_count": null,
      "metadata": {
        "id": "QO8sGbslTZ2Z"
      },
      "outputs": [],
      "source": [
        "print (is_best_prof(\"Pearl\"))"
      ]
    },
    {
      "cell_type": "code",
      "execution_count": null,
      "metadata": {
        "id": "wrwXOjl5TZ2a"
      },
      "outputs": [],
      "source": [
        "print (is_best_prof(\"John\"))"
      ]
    },
    {
      "cell_type": "code",
      "execution_count": null,
      "metadata": {
        "id": "1O8TD49cTZ2a"
      },
      "outputs": [],
      "source": [
        "my_prof = \"Pearl\"\n",
        "if is_best_prof(my_prof):\n",
        "    print(\"You're going to have a great semester!\")\n",
        "else:\n",
        "    print(\"Well, make the best of it!\")"
      ]
    },
    {
      "cell_type": "markdown",
      "metadata": {
        "id": "pc8ttyh_TZ2a"
      },
      "source": [
        "You see in that last one how we have a conditional in the cell, and then call a function that has a conditional inside it?  \n",
        "\n",
        "Let's put a whole bunch of these things together:"
      ]
    },
    {
      "cell_type": "code",
      "execution_count": null,
      "metadata": {
        "id": "bFT__rAsTZ2a"
      },
      "outputs": [],
      "source": [
        "my_profs = [\"John\", \"Paul\", \"George\", \"Ringo\"]\n",
        "one_best = False\n",
        "for prof in my_profs:\n",
        "    if is_best_prof(prof):\n",
        "        one_best = True\n",
        "if one_best:\n",
        "    print(\"You're going to have a great semester!\")\n",
        "else:\n",
        "    print(\"Well, make the best of it!\")"
      ]
    },
    {
      "cell_type": "markdown",
      "metadata": {
        "id": "-KOOn-8ITZ2a"
      },
      "source": [
        "As we can see here, we made **comparison** of names with the \"equal\" operation  (==).  Remember ... it's == not just = !\n",
        "\n",
        "Other comparisons:\n",
        "\n",
        "- strictly less than  < \n",
        "- less than or equal  <=\n",
        "- strictly greater than  >\n",
        "- greater than or equal  >=\n",
        "- not equal  !=\n",
        "- object identity  \"is\"\n",
        "- negated object identity \"is not\"\n",
        "\n",
        "What if we want to compare more than one element? \n",
        "We should include logical operations such as:\n",
        "\n",
        "- \"and\", also known as \"&\" \n",
        "- \"or\", also known as \"|\"\n",
        "\n",
        "Let's see if you can guess my age with this function!!\n"
      ]
    },
    {
      "cell_type": "code",
      "execution_count": null,
      "metadata": {
        "collapsed": true,
        "id": "IdIKwappTZ2a"
      },
      "outputs": [],
      "source": [
        "def is_my_age(age_argument):\n",
        "    if age_argument < 20:\n",
        "        return \"Of course not!\"\n",
        "    elif (age_argument >= 20) & (age_argument <= 40):\n",
        "        return \"Maybe..\"\n",
        "    elif age_argument > 40:\n",
        "        return \"Don't even think about it!\""
      ]
    },
    {
      "cell_type": "code",
      "execution_count": null,
      "metadata": {
        "id": "NIRxufVbTZ2a"
      },
      "outputs": [],
      "source": [
        "print (is_my_age(10))"
      ]
    },
    {
      "cell_type": "code",
      "execution_count": null,
      "metadata": {
        "id": "ug3BZVepTZ2b"
      },
      "outputs": [],
      "source": [
        "print (is_my_age(23))"
      ]
    },
    {
      "cell_type": "code",
      "execution_count": null,
      "metadata": {
        "id": "yrNIeQkxTZ2b"
      },
      "outputs": [],
      "source": [
        "print (is_my_age(80))"
      ]
    },
    {
      "cell_type": "markdown",
      "metadata": {
        "id": "Cxx7oU0nTZ2b"
      },
      "source": [
        "## Help, help, and more help!"
      ]
    },
    {
      "cell_type": "markdown",
      "metadata": {
        "id": "Ec5tcOBiTZ2b"
      },
      "source": [
        "Please dont get discouraged if you are stuck. This is how professional programmers work every day.  Try and do it yourself first, and then reach out for other resources.  Google your problem and it will likely take you to posts at [StackOverflow](http://stackoverflow.com), a popular programming question and answer site, with an extremely rich repository of solutions to problems that people have encountered.  It is likely that someone has asked the question you need answering and has posted a solution.\n",
        "\n",
        "It is also easy to ask a question of GenAI tools like ChatGPT or Gemini (which is built right into Colab).  These will often get you the correct answer, but I caution against simple cut-and-paste of the solution. Sometimes the code runs through but gives you the wrong thing. Sometimes it doesn't give you the simplest solution. Try and work your way through the code and understand the answer, and even ask ChatGPT questions like \"why is that line in the code?\".  Typing the code in instead of cut/paste can help you with the learning process.\n",
        "\n",
        "Programming can be frustrating. It's natural to get stuck or frustrated from time to time, even with the incredible resources that are now available. Take breaks, ask others for help, and be kind to yourself!\n",
        "\n",
        "---\n",
        "\n",
        "For refreshers, here are some resources:\n",
        "\n",
        "- Courses at [python.org](https://docs.python.org/3/tutorial/)\n",
        "- Online courses at [datacamp.com](https://www.datacamp.com/)\n",
        "- [Codecademy's Python Course](https://www.codecademy.com/learn/learn-python-3). Working though this class will give you a _great_ foundation for Python.\n",
        "- [Python for Data Analysis](https://www.amazon.com/Python-Data-Analysis-Wrangling-IPython-ebook/dp/B009NLMB8Q/ref=mt_kindle?_encoding=UTF8&me=) was the book that Prof. Foster suggested to prior iterations of this course. You can take a look at the chapters: Preliminaries, Introductory Examples (e.g. \"Counting Time Zones with pandas”), IPython (page 46 to 62) and specially, Pandas--one of the main Python packages for data analysis.  We will work with Pandas in class.\n",
        "- [Pandas Cookbook](https://www.amazon.com/Pandas-Cookbook-Scientific-Computing-Visualization/dp/1784393878) is another great resource to learn Pandas. It has lots of practice problems with detailed solutions in IPython notebooks."
      ]
    },
    {
      "cell_type": "markdown",
      "metadata": {},
      "source": []
    }
  ],
  "metadata": {
    "colab": {
      "name": "Python basics.ipynb",
      "provenance": []
    },
    "kernelspec": {
      "display_name": "Python 3",
      "language": "python",
      "name": "python3"
    },
    "language_info": {
      "codemirror_mode": {
        "name": "ipython",
        "version": 3
      },
      "file_extension": ".py",
      "mimetype": "text/x-python",
      "name": "python",
      "nbconvert_exporter": "python",
      "pygments_lexer": "ipython3",
      "version": "3.8.5"
    }
  },
  "nbformat": 4,
  "nbformat_minor": 0
}
