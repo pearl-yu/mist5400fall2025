{
  "cells": [
    {
      "cell_type": "markdown",
      "metadata": {
        "id": "FzWGAK6sK43D"
      },
      "source": [
        "To open notebook in Colab please click below:\n",
        "\n",
        "<a href=\"https://colab.research.google.com/github/pearl-yu/mist5400fall2025/blob/main/0_Basics/Code%20with%20AI.ipynb\" target=\"_parent\"> <img src=\"https://colab.research.google.com/assets/colab-badge.svg\" alt=\"Open In Colab\" /> </a>"
      ]
    },
    {
      "cell_type": "code",
      "execution_count": null,
      "metadata": {
        "collapsed": true,
        "id": "BC59JrCOTZ2P"
      },
      "outputs": [],
      "source": [
        "#If opening in colab run this cell\n",
        "!git clone https://github.com/pearl-yu/mist5400fall2025\n",
        "%cd mist5400fall2025/0_Basics"
      ]
    },
    {
      "cell_type": "markdown",
      "metadata": {
        "id": "yn8zBmCpTZ2Q"
      },
      "source": [
        "# Code with AI\n",
        "\n",
        "\n",
        "Fall 2025 - Instructor: Pearl (Peiyan) Yu\n",
        "\n",
        "***"
      ]
    },
    {
      "cell_type": "markdown",
      "metadata": {
        "id": "TD4ruMSuTZ2R"
      },
      "source": [
        "We will start by analyzing a [dataset of college enrollments](https://www.kaggle.com/datasets/yashgpt/us-college-data) from Kaggle.\n",
        "\n",
        "We will briefly show how GenAI works within Colab"
      ]
    },
    {
      "cell_type": "markdown",
      "metadata": {},
      "source": [
        "\n",
        "It contains a number of variables for 777 different universities and colleges in the US. The variables are:\n",
        "\n",
        "- Private : Public/private indicator\n",
        "- Apps : Number of applications received\n",
        "- Accept : Number of applicants accepted\n",
        "- Enroll : Number of new students enrolled\n",
        "- Top10perc : New students from top 10 % of high school class\n",
        "- Top25perc : New students from top 25 % of high school class\n",
        "- F. Undergrad : Number of full-time undergraduates\n",
        "- P.Undergrad : Number of part-time undergraduates\n",
        "- Outstate : Out-of-state tuition\n",
        "- Room.Board : Room and board costs\n",
        "- Books : Estimated book costs\n",
        "- Personal : Estimated personal spending\n",
        "- PhD : Percent of faculty with Ph.D.s\n",
        "- Terminal : Percent of faculty with terminal degree\n",
        "- S.F.Ratio : Student/faculty ratio\n",
        "- perc.alumni : Percent of alumni who donate\n",
        "- Expend : Instructional expenditure per student\n",
        "- Grad.Rate : Graduation rate\n"
      ]
    },
    {
      "cell_type": "code",
      "execution_count": null,
      "metadata": {},
      "outputs": [],
      "source": [
        "#start by importing packages\n",
        "\n",
        "import numpy as np # arithmetic and algebra\n",
        "import pandas as pd  # data manipulation\n",
        "import sklearn as sk # machine learning and predictive models\n",
        "import matplotlib.pyplot as plt # data plotting\n",
        "import seaborn as sns # advanced visualization"
      ]
    },
    {
      "cell_type": "markdown",
      "metadata": {},
      "source": [
        "Gemini: It's integrated into Colab. \n",
        "\n",
        "Can type **at the hashtag** in a code cell.  Or, use the **generate** function.\n",
        "\n",
        "Github Copilot (free for students) is integrated into VS Code, so that's another option if you want an AI model integrated into your IDE."
      ]
    },
    {
      "cell_type": "markdown",
      "metadata": {},
      "source": [
        "## Explain code\n",
        "\n",
        "We could, ask your GenAI model to explain the code / add comments."
      ]
    },
    {
      "cell_type": "code",
      "execution_count": null,
      "metadata": {},
      "outputs": [],
      "source": [
        "# prompt: Can you add comments to explain what the packages are for?\n",
        "# start by importing packages\n",
        "\n",
        "import numpy as np \n",
        "import pandas as pd  \n",
        "import sklearn as sk \n",
        "import matplotlib.pyplot as plt \n",
        "import seaborn as sns "
      ]
    },
    {
      "cell_type": "markdown",
      "metadata": {},
      "source": [
        "## Generate code for easy things\n",
        "\n",
        "This is recommended for easy things that you know how to do, but just want to save time."
      ]
    },
    {
      "cell_type": "code",
      "execution_count": null,
      "metadata": {},
      "outputs": [],
      "source": [
        "# Download the dataset directly from Kaggle API\n",
        "\n",
        "import kagglehub\n",
        "\n",
        "path = kagglehub.dataset_download(\"yashgpt/us-college-data\")\n",
        "\n",
        "print(\"Path to dataset files:\", path)"
      ]
    },
    {
      "cell_type": "code",
      "execution_count": null,
      "metadata": {},
      "outputs": [],
      "source": [
        "# Prompt: import the downloaded dataset"
      ]
    },
    {
      "cell_type": "markdown",
      "metadata": {},
      "source": [
        "Sometimes, it gets things wrong. "
      ]
    },
    {
      "cell_type": "code",
      "execution_count": null,
      "metadata": {},
      "outputs": [],
      "source": [
        "# The path to the downloaded dataset is available in the 'path' variable from the previous cell.\n",
        "\n",
        "college = pd.read_csv(path +'/College_Data.csv') # Trying to read with full path\n",
        "\n",
        "\n",
        "# Display the first few rows of the dataframe to verify\n",
        "display(college.head())"
      ]
    },
    {
      "cell_type": "markdown",
      "metadata": {},
      "source": [
        "## Debug\n",
        "\n",
        "We can also ask it to debug code, find errors and correct them. "
      ]
    },
    {
      "cell_type": "code",
      "execution_count": null,
      "metadata": {},
      "outputs": [],
      "source": [
        "# Prompt: debug? \n",
        "collage.descibe()"
      ]
    },
    {
      "cell_type": "markdown",
      "metadata": {},
      "source": [
        "## Generate code for more stuff"
      ]
    },
    {
      "cell_type": "code",
      "execution_count": null,
      "metadata": {},
      "outputs": [],
      "source": [
        "# change the column name from Unamed:0 to SchoolName"
      ]
    },
    {
      "cell_type": "code",
      "execution_count": null,
      "metadata": {},
      "outputs": [],
      "source": [
        "# plot a histogram of Top10Perc"
      ]
    },
    {
      "cell_type": "code",
      "execution_count": null,
      "metadata": {},
      "outputs": [],
      "source": [
        "# find the top 10 schools with the best Graduation Rates"
      ]
    },
    {
      "cell_type": "markdown",
      "metadata": {},
      "source": [
        "## Exercise\n",
        "Take a look at the data fields, and think of one more thing you'd like to know about college enrollments. Ask Gemini to give you the plots. Are the plots what you expected? Try to ask Gemini to refine it if you don't like parts of it. \n",
        "\n",
        "After you completed this, **download** the notebook and **submit in eLC assignment --> In-class exercise 1.**"
      ]
    },
    {
      "cell_type": "code",
      "execution_count": null,
      "metadata": {},
      "outputs": [],
      "source": []
    },
    {
      "cell_type": "markdown",
      "metadata": {},
      "source": []
    }
  ],
  "metadata": {
    "colab": {
      "name": "Python basics.ipynb",
      "provenance": []
    },
    "kernelspec": {
      "display_name": "Python 3",
      "language": "python",
      "name": "python3"
    },
    "language_info": {
      "codemirror_mode": {
        "name": "ipython",
        "version": 3
      },
      "file_extension": ".py",
      "mimetype": "text/x-python",
      "name": "python",
      "nbconvert_exporter": "python",
      "pygments_lexer": "ipython3",
      "version": "3.8.5"
    }
  },
  "nbformat": 4,
  "nbformat_minor": 0
}
